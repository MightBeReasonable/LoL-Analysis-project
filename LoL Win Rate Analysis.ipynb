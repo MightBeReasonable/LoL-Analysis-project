{
 "cells": [
  {
   "cell_type": "code",
   "execution_count": 1,
   "metadata": {},
   "outputs": [],
   "source": [
    "%matplotlib inline"
   ]
  },
  {
   "cell_type": "code",
   "execution_count": 2,
   "metadata": {},
   "outputs": [],
   "source": [
    "import numpy as np\n",
    "import pandas as pd\n",
    "import matplotlib.pyplot as plt\n",
    "\n",
    "from sklearn.linear_model import LogisticRegression\n",
    "from sklearn.model_selection import train_test_split\n",
    "from sklearn.metrics import accuracy_score"
   ]
  },
  {
   "cell_type": "markdown",
   "metadata": {},
   "source": [
    "# League of Legends - Factors that affect the win rate\n",
    "## How different factors change the course of the game"
   ]
  },
  {
   "cell_type": "markdown",
   "metadata": {},
   "source": [
    "### Abstract\n",
    "*Context*. The community of one of the most popular MOBA games for the last few years is growing significantly. More and more people around the world starts playing the game every day. With that in mind much more people are interested in how to get better at the game and what things should they look after when playing it. Even the gambling bussines has turned his gaze to the LCS (League Championship). Knowing this the necessity of different types of analysis pops up. \n",
    "\n",
    "*Aims*. One of the purposes of this paper is to explore how the different factors in the game are related to the probability of winning. And one of the questions that we are facing is \"Is it possible to predict the result of a game by knowing almost every factor around the game for the first 10 minutes?\". And is there significant difference between having the information for the first 10 minutes and the information for the next 5?\n",
    "\n",
    "*Methods*. In the first part of this paper we are loading a 10000 observations for the first 10 minutes of the game and we are visualising how the different factors are realted with the game result. After that we are using logistic regression to try to predict the outcome of a game. Later on we are loading another dataset with another 10000 observations, but this time for the first 15 minutes of the game. We are making an experiment if we can train our model with the data from the first set and receive correct results for the second one. At last we are training our model and trying to predict the results with data only from the second dataset.\n",
    "\n",
    "*Results*. The results of the model analysing the first data set has given us 70% accuracy with its predictions. The second model which supposed to predict the result of a game from the second dataset with training data from the first has given us only 55% accuracy. The last model, which have been trained with data from the second dataset, has given us 72% accuracy on his predictions for the results of the games from the second dataset.\n",
    "\n",
    "*Conclusions*. Due to the dynamics of the game it's hard to predict the outcome having information for the first 10 minutes of the game only. For the same reason the second dataset has not given us good results. The reason why did the second model hasn't given us high results is, because the essential information which the two datasets bring is very different. Still, we speak about different periods of a time. Last, but not least, we can explore data for only one of the teams and even with small number of features without significant difference in the result.\n"
   ]
  },
  {
   "cell_type": "markdown",
   "metadata": {},
   "source": [
    "### What is League of Legends?\n",
    "\n",
    "League of Legends is MOBA (Multiplayer Online Battle Arena) video game developed and published by Riot Games. In LoL the players play the game as \"champions\" with unique abillities and fight in 5vs5 against another team of players or computer controlled champions. There are a few modes and maps on which the game can be played, but for this paper we will look at the classic ranked mode on the map \"Summoner's rift\" with 3 lanes and a jungle. The goal of the game is to destroy the enemy nexus (main structure) which is located at the heart of the enemy base, surrounded by defensive structures called towers.\n",
    "\n",
    "During the course of the game the champions grow in strength (they level up) and buy items, using gold, which makes them stronger. They also complete different tasks called objectives. Objective can be killing an epic monster as a team (The Dragon or the Rift Herald), gaining additional benefits or destroying enemy structure, gaining additional gold. During the whole game minions (NPC troops) spawn in waves of 6 or 7 (every third wave is with 7th minion) at a time at each lane of each side (blue side and red side). This is one of the easiest ways to gain gold at the game. There are also minion camps in the jungle, which also are meant to give gold to the player, who has taken the role of a \"jungler\".\n",
    "\n",
    "As a player you view the game in third person mode. You can see as further as the champion you are playing can see. Also you can see what other frienly champions can see and what friendly structures can see, which means there is a huge part of the map which stays hidden from you and visible to the enemy team, or hidden for both teams. There are things called \"wards\" or \"warding totem\", which can give you vision at places where there are no other friendly entities for a period of time. Placing wards and destroying enemy wards is an important part of the game since the vision control is very important (it's almost like killing a spy).\n",
    "\n",
    "Last, but not least, the easiest way to take objectives is to kill enemy champions, so there is no one to interfere. Good vision control can greatly benefit any battle by surprising the enemies for example. Champion kills award most gold to the player who did the kill (300gold or a bounty, which is more) and a fixed amount of gold (150g) split between the players who assisted in the kill. The first champion kill in the game is called \"first blood\" and it awards more gold than the usual kills (400gold, this is why it's important)."
   ]
  },
  {
   "cell_type": "markdown",
   "metadata": {},
   "source": [
    "### The ranking in the game, the dataset and the goal of the analysis\n",
    "\n",
    "Depending on the win rate of the player he is placed in different ranking category. The higher the winrate is, the higher in the ladder the player goes where he can compete other players on the same level as him. The categories in the game are named (from the lowest to the highest): Iron, Bronze, Silver, Gold, Platinum, Diamond, Master, Grandmaster and Challenger. Each category, except the last three, is divided in four subcategories from one to four in roman numerals (Iron IV, Iron III, Iron II, Iron I) where IV being the lowest and I being the highest. Why is this important for our analysis? It is important, because in the different ELO groups different factors have different importance. For example in low ELO (Iron IV to Silver I) vision control is not as important as it is in high ELO (Diamond IV to Chalenger). From Diamond IV to Challenger there is no great difference in which factors have most importance, the important thing there is the personal abillities of the player and how he react and knows to play his champion.\n",
    "\n",
    "Our dataset consists of the events that took place the first 10 minutes of almost 10 000 ranked games from high ELO (Diamond I to Master) and each game is unique. There are 19 features per team (blue and red team) which results in 38 columns, 1 column **blueWins** which indicates the winner of the game and 1 column for the game id. The data is cleaned and there are no missing values.\n",
    "\n",
    "This analysis can give us information how important are the first 10 minutes of the game and which factors give us most information about how the game will result. The averange length of a game in this ELO is betwenn 25:46 and 26:32 minutes."
   ]
  },
  {
   "cell_type": "markdown",
   "metadata": {},
   "source": [
    "### Reading and \"cleaning\" the data\n",
    "\n",
    "First of all we will read our data, set our index and visualise it. After that we will check the shape of the dataframe and show the unique columns with their data types. "
   ]
  },
  {
   "cell_type": "code",
   "execution_count": 3,
   "metadata": {},
   "outputs": [
    {
     "data": {
      "text/html": [
       "<div>\n",
       "<style scoped>\n",
       "    .dataframe tbody tr th:only-of-type {\n",
       "        vertical-align: middle;\n",
       "    }\n",
       "\n",
       "    .dataframe tbody tr th {\n",
       "        vertical-align: top;\n",
       "    }\n",
       "\n",
       "    .dataframe thead th {\n",
       "        text-align: right;\n",
       "    }\n",
       "</style>\n",
       "<table border=\"1\" class=\"dataframe\">\n",
       "  <thead>\n",
       "    <tr style=\"text-align: right;\">\n",
       "      <th></th>\n",
       "      <th>blueWins</th>\n",
       "      <th>blueWardsPlaced</th>\n",
       "      <th>blueWardsDestroyed</th>\n",
       "      <th>blueFirstBlood</th>\n",
       "      <th>blueKills</th>\n",
       "      <th>blueDeaths</th>\n",
       "      <th>blueAssists</th>\n",
       "      <th>blueEliteMonsters</th>\n",
       "      <th>blueDragons</th>\n",
       "      <th>blueHeralds</th>\n",
       "      <th>...</th>\n",
       "      <th>redTowersDestroyed</th>\n",
       "      <th>redTotalGold</th>\n",
       "      <th>redAvgLevel</th>\n",
       "      <th>redTotalExperience</th>\n",
       "      <th>redTotalMinionsKilled</th>\n",
       "      <th>redTotalJungleMinionsKilled</th>\n",
       "      <th>redGoldDiff</th>\n",
       "      <th>redExperienceDiff</th>\n",
       "      <th>redCSPerMin</th>\n",
       "      <th>redGoldPerMin</th>\n",
       "    </tr>\n",
       "    <tr>\n",
       "      <th>gameId</th>\n",
       "      <th></th>\n",
       "      <th></th>\n",
       "      <th></th>\n",
       "      <th></th>\n",
       "      <th></th>\n",
       "      <th></th>\n",
       "      <th></th>\n",
       "      <th></th>\n",
       "      <th></th>\n",
       "      <th></th>\n",
       "      <th></th>\n",
       "      <th></th>\n",
       "      <th></th>\n",
       "      <th></th>\n",
       "      <th></th>\n",
       "      <th></th>\n",
       "      <th></th>\n",
       "      <th></th>\n",
       "      <th></th>\n",
       "      <th></th>\n",
       "      <th></th>\n",
       "    </tr>\n",
       "  </thead>\n",
       "  <tbody>\n",
       "    <tr>\n",
       "      <th>4519157822</th>\n",
       "      <td>0</td>\n",
       "      <td>28</td>\n",
       "      <td>2</td>\n",
       "      <td>1</td>\n",
       "      <td>9</td>\n",
       "      <td>6</td>\n",
       "      <td>11</td>\n",
       "      <td>0</td>\n",
       "      <td>0</td>\n",
       "      <td>0</td>\n",
       "      <td>...</td>\n",
       "      <td>0</td>\n",
       "      <td>16567</td>\n",
       "      <td>6.8</td>\n",
       "      <td>17047</td>\n",
       "      <td>197</td>\n",
       "      <td>55</td>\n",
       "      <td>-643</td>\n",
       "      <td>8</td>\n",
       "      <td>19.7</td>\n",
       "      <td>1656.7</td>\n",
       "    </tr>\n",
       "    <tr>\n",
       "      <th>4523371949</th>\n",
       "      <td>0</td>\n",
       "      <td>12</td>\n",
       "      <td>1</td>\n",
       "      <td>0</td>\n",
       "      <td>5</td>\n",
       "      <td>5</td>\n",
       "      <td>5</td>\n",
       "      <td>0</td>\n",
       "      <td>0</td>\n",
       "      <td>0</td>\n",
       "      <td>...</td>\n",
       "      <td>1</td>\n",
       "      <td>17620</td>\n",
       "      <td>6.8</td>\n",
       "      <td>17438</td>\n",
       "      <td>240</td>\n",
       "      <td>52</td>\n",
       "      <td>2908</td>\n",
       "      <td>1173</td>\n",
       "      <td>24.0</td>\n",
       "      <td>1762.0</td>\n",
       "    </tr>\n",
       "    <tr>\n",
       "      <th>4521474530</th>\n",
       "      <td>0</td>\n",
       "      <td>15</td>\n",
       "      <td>0</td>\n",
       "      <td>0</td>\n",
       "      <td>7</td>\n",
       "      <td>11</td>\n",
       "      <td>4</td>\n",
       "      <td>1</td>\n",
       "      <td>1</td>\n",
       "      <td>0</td>\n",
       "      <td>...</td>\n",
       "      <td>0</td>\n",
       "      <td>17285</td>\n",
       "      <td>6.8</td>\n",
       "      <td>17254</td>\n",
       "      <td>203</td>\n",
       "      <td>28</td>\n",
       "      <td>1172</td>\n",
       "      <td>1033</td>\n",
       "      <td>20.3</td>\n",
       "      <td>1728.5</td>\n",
       "    </tr>\n",
       "    <tr>\n",
       "      <th>4524384067</th>\n",
       "      <td>0</td>\n",
       "      <td>43</td>\n",
       "      <td>1</td>\n",
       "      <td>0</td>\n",
       "      <td>4</td>\n",
       "      <td>5</td>\n",
       "      <td>5</td>\n",
       "      <td>1</td>\n",
       "      <td>0</td>\n",
       "      <td>1</td>\n",
       "      <td>...</td>\n",
       "      <td>0</td>\n",
       "      <td>16478</td>\n",
       "      <td>7.0</td>\n",
       "      <td>17961</td>\n",
       "      <td>235</td>\n",
       "      <td>47</td>\n",
       "      <td>1321</td>\n",
       "      <td>7</td>\n",
       "      <td>23.5</td>\n",
       "      <td>1647.8</td>\n",
       "    </tr>\n",
       "    <tr>\n",
       "      <th>4436033771</th>\n",
       "      <td>0</td>\n",
       "      <td>75</td>\n",
       "      <td>4</td>\n",
       "      <td>0</td>\n",
       "      <td>6</td>\n",
       "      <td>6</td>\n",
       "      <td>6</td>\n",
       "      <td>0</td>\n",
       "      <td>0</td>\n",
       "      <td>0</td>\n",
       "      <td>...</td>\n",
       "      <td>0</td>\n",
       "      <td>17404</td>\n",
       "      <td>7.0</td>\n",
       "      <td>18313</td>\n",
       "      <td>225</td>\n",
       "      <td>67</td>\n",
       "      <td>1004</td>\n",
       "      <td>-230</td>\n",
       "      <td>22.5</td>\n",
       "      <td>1740.4</td>\n",
       "    </tr>\n",
       "    <tr>\n",
       "      <th>...</th>\n",
       "      <td>...</td>\n",
       "      <td>...</td>\n",
       "      <td>...</td>\n",
       "      <td>...</td>\n",
       "      <td>...</td>\n",
       "      <td>...</td>\n",
       "      <td>...</td>\n",
       "      <td>...</td>\n",
       "      <td>...</td>\n",
       "      <td>...</td>\n",
       "      <td>...</td>\n",
       "      <td>...</td>\n",
       "      <td>...</td>\n",
       "      <td>...</td>\n",
       "      <td>...</td>\n",
       "      <td>...</td>\n",
       "      <td>...</td>\n",
       "      <td>...</td>\n",
       "      <td>...</td>\n",
       "      <td>...</td>\n",
       "      <td>...</td>\n",
       "    </tr>\n",
       "    <tr>\n",
       "      <th>4527873286</th>\n",
       "      <td>1</td>\n",
       "      <td>17</td>\n",
       "      <td>2</td>\n",
       "      <td>1</td>\n",
       "      <td>7</td>\n",
       "      <td>4</td>\n",
       "      <td>5</td>\n",
       "      <td>1</td>\n",
       "      <td>1</td>\n",
       "      <td>0</td>\n",
       "      <td>...</td>\n",
       "      <td>0</td>\n",
       "      <td>15246</td>\n",
       "      <td>6.8</td>\n",
       "      <td>16498</td>\n",
       "      <td>229</td>\n",
       "      <td>34</td>\n",
       "      <td>-2519</td>\n",
       "      <td>-2469</td>\n",
       "      <td>22.9</td>\n",
       "      <td>1524.6</td>\n",
       "    </tr>\n",
       "    <tr>\n",
       "      <th>4527797466</th>\n",
       "      <td>1</td>\n",
       "      <td>54</td>\n",
       "      <td>0</td>\n",
       "      <td>0</td>\n",
       "      <td>6</td>\n",
       "      <td>4</td>\n",
       "      <td>8</td>\n",
       "      <td>1</td>\n",
       "      <td>1</td>\n",
       "      <td>0</td>\n",
       "      <td>...</td>\n",
       "      <td>0</td>\n",
       "      <td>15456</td>\n",
       "      <td>7.0</td>\n",
       "      <td>18367</td>\n",
       "      <td>206</td>\n",
       "      <td>56</td>\n",
       "      <td>-782</td>\n",
       "      <td>-888</td>\n",
       "      <td>20.6</td>\n",
       "      <td>1545.6</td>\n",
       "    </tr>\n",
       "    <tr>\n",
       "      <th>4527713716</th>\n",
       "      <td>0</td>\n",
       "      <td>23</td>\n",
       "      <td>1</td>\n",
       "      <td>0</td>\n",
       "      <td>6</td>\n",
       "      <td>7</td>\n",
       "      <td>5</td>\n",
       "      <td>0</td>\n",
       "      <td>0</td>\n",
       "      <td>0</td>\n",
       "      <td>...</td>\n",
       "      <td>0</td>\n",
       "      <td>18319</td>\n",
       "      <td>7.4</td>\n",
       "      <td>19909</td>\n",
       "      <td>261</td>\n",
       "      <td>60</td>\n",
       "      <td>2416</td>\n",
       "      <td>1877</td>\n",
       "      <td>26.1</td>\n",
       "      <td>1831.9</td>\n",
       "    </tr>\n",
       "    <tr>\n",
       "      <th>4527628313</th>\n",
       "      <td>0</td>\n",
       "      <td>14</td>\n",
       "      <td>4</td>\n",
       "      <td>1</td>\n",
       "      <td>2</td>\n",
       "      <td>3</td>\n",
       "      <td>3</td>\n",
       "      <td>1</td>\n",
       "      <td>1</td>\n",
       "      <td>0</td>\n",
       "      <td>...</td>\n",
       "      <td>0</td>\n",
       "      <td>15298</td>\n",
       "      <td>7.2</td>\n",
       "      <td>18314</td>\n",
       "      <td>247</td>\n",
       "      <td>40</td>\n",
       "      <td>839</td>\n",
       "      <td>1085</td>\n",
       "      <td>24.7</td>\n",
       "      <td>1529.8</td>\n",
       "    </tr>\n",
       "    <tr>\n",
       "      <th>4523772935</th>\n",
       "      <td>1</td>\n",
       "      <td>18</td>\n",
       "      <td>0</td>\n",
       "      <td>1</td>\n",
       "      <td>6</td>\n",
       "      <td>6</td>\n",
       "      <td>5</td>\n",
       "      <td>0</td>\n",
       "      <td>0</td>\n",
       "      <td>0</td>\n",
       "      <td>...</td>\n",
       "      <td>0</td>\n",
       "      <td>15339</td>\n",
       "      <td>6.8</td>\n",
       "      <td>17379</td>\n",
       "      <td>201</td>\n",
       "      <td>46</td>\n",
       "      <td>-927</td>\n",
       "      <td>58</td>\n",
       "      <td>20.1</td>\n",
       "      <td>1533.9</td>\n",
       "    </tr>\n",
       "  </tbody>\n",
       "</table>\n",
       "<p>9879 rows × 39 columns</p>\n",
       "</div>"
      ],
      "text/plain": [
       "            blueWins  blueWardsPlaced  blueWardsDestroyed  blueFirstBlood  \\\n",
       "gameId                                                                      \n",
       "4519157822         0               28                   2               1   \n",
       "4523371949         0               12                   1               0   \n",
       "4521474530         0               15                   0               0   \n",
       "4524384067         0               43                   1               0   \n",
       "4436033771         0               75                   4               0   \n",
       "...              ...              ...                 ...             ...   \n",
       "4527873286         1               17                   2               1   \n",
       "4527797466         1               54                   0               0   \n",
       "4527713716         0               23                   1               0   \n",
       "4527628313         0               14                   4               1   \n",
       "4523772935         1               18                   0               1   \n",
       "\n",
       "            blueKills  blueDeaths  blueAssists  blueEliteMonsters  \\\n",
       "gameId                                                              \n",
       "4519157822          9           6           11                  0   \n",
       "4523371949          5           5            5                  0   \n",
       "4521474530          7          11            4                  1   \n",
       "4524384067          4           5            5                  1   \n",
       "4436033771          6           6            6                  0   \n",
       "...               ...         ...          ...                ...   \n",
       "4527873286          7           4            5                  1   \n",
       "4527797466          6           4            8                  1   \n",
       "4527713716          6           7            5                  0   \n",
       "4527628313          2           3            3                  1   \n",
       "4523772935          6           6            5                  0   \n",
       "\n",
       "            blueDragons  blueHeralds  ...  redTowersDestroyed  redTotalGold  \\\n",
       "gameId                                ...                                     \n",
       "4519157822            0            0  ...                   0         16567   \n",
       "4523371949            0            0  ...                   1         17620   \n",
       "4521474530            1            0  ...                   0         17285   \n",
       "4524384067            0            1  ...                   0         16478   \n",
       "4436033771            0            0  ...                   0         17404   \n",
       "...                 ...          ...  ...                 ...           ...   \n",
       "4527873286            1            0  ...                   0         15246   \n",
       "4527797466            1            0  ...                   0         15456   \n",
       "4527713716            0            0  ...                   0         18319   \n",
       "4527628313            1            0  ...                   0         15298   \n",
       "4523772935            0            0  ...                   0         15339   \n",
       "\n",
       "            redAvgLevel  redTotalExperience  redTotalMinionsKilled  \\\n",
       "gameId                                                               \n",
       "4519157822          6.8               17047                    197   \n",
       "4523371949          6.8               17438                    240   \n",
       "4521474530          6.8               17254                    203   \n",
       "4524384067          7.0               17961                    235   \n",
       "4436033771          7.0               18313                    225   \n",
       "...                 ...                 ...                    ...   \n",
       "4527873286          6.8               16498                    229   \n",
       "4527797466          7.0               18367                    206   \n",
       "4527713716          7.4               19909                    261   \n",
       "4527628313          7.2               18314                    247   \n",
       "4523772935          6.8               17379                    201   \n",
       "\n",
       "            redTotalJungleMinionsKilled  redGoldDiff  redExperienceDiff  \\\n",
       "gameId                                                                    \n",
       "4519157822                           55         -643                  8   \n",
       "4523371949                           52         2908               1173   \n",
       "4521474530                           28         1172               1033   \n",
       "4524384067                           47         1321                  7   \n",
       "4436033771                           67         1004               -230   \n",
       "...                                 ...          ...                ...   \n",
       "4527873286                           34        -2519              -2469   \n",
       "4527797466                           56         -782               -888   \n",
       "4527713716                           60         2416               1877   \n",
       "4527628313                           40          839               1085   \n",
       "4523772935                           46         -927                 58   \n",
       "\n",
       "            redCSPerMin  redGoldPerMin  \n",
       "gameId                                  \n",
       "4519157822         19.7         1656.7  \n",
       "4523371949         24.0         1762.0  \n",
       "4521474530         20.3         1728.5  \n",
       "4524384067         23.5         1647.8  \n",
       "4436033771         22.5         1740.4  \n",
       "...                 ...            ...  \n",
       "4527873286         22.9         1524.6  \n",
       "4527797466         20.6         1545.6  \n",
       "4527713716         26.1         1831.9  \n",
       "4527628313         24.7         1529.8  \n",
       "4523772935         20.1         1533.9  \n",
       "\n",
       "[9879 rows x 39 columns]"
      ]
     },
     "execution_count": 3,
     "metadata": {},
     "output_type": "execute_result"
    }
   ],
   "source": [
    "game_10m_data = pd.read_csv(\"data\\diamond1_masters_10min\\high_diamond_ranked_10min.csv\")\n",
    "game_10m_data = game_10m_data.set_index(\"gameId\")\n",
    "game_10m_data"
   ]
  },
  {
   "cell_type": "code",
   "execution_count": 4,
   "metadata": {},
   "outputs": [
    {
     "data": {
      "text/plain": [
       "(9879, 39)"
      ]
     },
     "execution_count": 4,
     "metadata": {},
     "output_type": "execute_result"
    }
   ],
   "source": [
    "game_10m_data.shape"
   ]
  },
  {
   "cell_type": "code",
   "execution_count": 5,
   "metadata": {},
   "outputs": [
    {
     "data": {
      "text/plain": [
       "blueWins                          int64\n",
       "blueWardsPlaced                   int64\n",
       "blueWardsDestroyed                int64\n",
       "blueFirstBlood                    int64\n",
       "blueKills                         int64\n",
       "blueDeaths                        int64\n",
       "blueAssists                       int64\n",
       "blueEliteMonsters                 int64\n",
       "blueDragons                       int64\n",
       "blueHeralds                       int64\n",
       "blueTowersDestroyed               int64\n",
       "blueTotalGold                     int64\n",
       "blueAvgLevel                    float64\n",
       "blueTotalExperience               int64\n",
       "blueTotalMinionsKilled            int64\n",
       "blueTotalJungleMinionsKilled      int64\n",
       "blueGoldDiff                      int64\n",
       "blueExperienceDiff                int64\n",
       "blueCSPerMin                    float64\n",
       "blueGoldPerMin                  float64\n",
       "redWardsPlaced                    int64\n",
       "redWardsDestroyed                 int64\n",
       "redFirstBlood                     int64\n",
       "redKills                          int64\n",
       "redDeaths                         int64\n",
       "redAssists                        int64\n",
       "redEliteMonsters                  int64\n",
       "redDragons                        int64\n",
       "redHeralds                        int64\n",
       "redTowersDestroyed                int64\n",
       "redTotalGold                      int64\n",
       "redAvgLevel                     float64\n",
       "redTotalExperience                int64\n",
       "redTotalMinionsKilled             int64\n",
       "redTotalJungleMinionsKilled       int64\n",
       "redGoldDiff                       int64\n",
       "redExperienceDiff                 int64\n",
       "redCSPerMin                     float64\n",
       "redGoldPerMin                   float64\n",
       "dtype: object"
      ]
     },
     "execution_count": 5,
     "metadata": {},
     "output_type": "execute_result"
    }
   ],
   "source": [
    "game_10m_data.dtypes"
   ]
  },
  {
   "cell_type": "markdown",
   "metadata": {},
   "source": [
    "As we explore the data we see that some of the columns have duplicate information and we can drop them. We will start exploring the data in the columns from left to right, to check for data that we don't need.\n",
    "\n",
    "* The column **blueFirstBlood** contains ones and zeros, respectively 1 for True (blue team has taken first blood) and 0 for False (red team has taken first blood). The column **redFirstBlood** contains the exact same information, but the opposite, so we can drop one of them.\n",
    "\n",
    "* We expect the column **blueKills** to match the column **redDeaths** and respectively the opposite - **redKills** to match **blueDeaths**, but there are othere factors which can result in difference between the columns (player killed by jungle camp or elite monster), so we will leave these for now.\n",
    "\n",
    "* The columns **blueTotalExperience**, **blueExperienceDiff**, **redTotalExperince** and **redExperienceDiff** in pairs contain the same information. If we have **blueTotalExperience** and **blueExperienceDiff** we can tell what is **redTotalExperince**, so we will drop **redTotalExperince** and **redExperienceDiff**.\n",
    "\n",
    "* We can say exactly the same for the columns **blueTotalGold**, **blueGoldDiff**, **redTotalGold** and **redGoldDiff**, so we will drop the red ones.\n",
    "\n",
    "* Further exploration of the data lead us to seeing that an important factor is forgotten. It is the kill participation. This factor shows a number between 0 and 1 which contains the information about what percentage of the kills involved the entire team. This factor can give us information about whether the team is good together, or there are 1 or 2 players which are better than the others. We can have this in mind, but since there is no data about this factor we can't take it into account.\n",
    "\n",
    "* Another forgotten factor is the first tower bonus gold, but as we don't have that information we can't consider it.\n",
    "\n",
    "For the sake of the example we will display the information in the experience columns."
   ]
  },
  {
   "cell_type": "code",
   "execution_count": 6,
   "metadata": {},
   "outputs": [
    {
     "data": {
      "text/html": [
       "<div>\n",
       "<style scoped>\n",
       "    .dataframe tbody tr th:only-of-type {\n",
       "        vertical-align: middle;\n",
       "    }\n",
       "\n",
       "    .dataframe tbody tr th {\n",
       "        vertical-align: top;\n",
       "    }\n",
       "\n",
       "    .dataframe thead th {\n",
       "        text-align: right;\n",
       "    }\n",
       "</style>\n",
       "<table border=\"1\" class=\"dataframe\">\n",
       "  <thead>\n",
       "    <tr style=\"text-align: right;\">\n",
       "      <th></th>\n",
       "      <th>blueTotalExperience</th>\n",
       "      <th>redTotalExperience</th>\n",
       "      <th>blueExperienceDiff</th>\n",
       "      <th>redExperienceDiff</th>\n",
       "    </tr>\n",
       "    <tr>\n",
       "      <th>gameId</th>\n",
       "      <th></th>\n",
       "      <th></th>\n",
       "      <th></th>\n",
       "      <th></th>\n",
       "    </tr>\n",
       "  </thead>\n",
       "  <tbody>\n",
       "    <tr>\n",
       "      <th>4519157822</th>\n",
       "      <td>17039</td>\n",
       "      <td>17047</td>\n",
       "      <td>-8</td>\n",
       "      <td>8</td>\n",
       "    </tr>\n",
       "    <tr>\n",
       "      <th>4523371949</th>\n",
       "      <td>16265</td>\n",
       "      <td>17438</td>\n",
       "      <td>-1173</td>\n",
       "      <td>1173</td>\n",
       "    </tr>\n",
       "    <tr>\n",
       "      <th>4521474530</th>\n",
       "      <td>16221</td>\n",
       "      <td>17254</td>\n",
       "      <td>-1033</td>\n",
       "      <td>1033</td>\n",
       "    </tr>\n",
       "    <tr>\n",
       "      <th>4524384067</th>\n",
       "      <td>17954</td>\n",
       "      <td>17961</td>\n",
       "      <td>-7</td>\n",
       "      <td>7</td>\n",
       "    </tr>\n",
       "    <tr>\n",
       "      <th>4436033771</th>\n",
       "      <td>18543</td>\n",
       "      <td>18313</td>\n",
       "      <td>230</td>\n",
       "      <td>-230</td>\n",
       "    </tr>\n",
       "    <tr>\n",
       "      <th>...</th>\n",
       "      <td>...</td>\n",
       "      <td>...</td>\n",
       "      <td>...</td>\n",
       "      <td>...</td>\n",
       "    </tr>\n",
       "    <tr>\n",
       "      <th>4527873286</th>\n",
       "      <td>18967</td>\n",
       "      <td>16498</td>\n",
       "      <td>2469</td>\n",
       "      <td>-2469</td>\n",
       "    </tr>\n",
       "    <tr>\n",
       "      <th>4527797466</th>\n",
       "      <td>19255</td>\n",
       "      <td>18367</td>\n",
       "      <td>888</td>\n",
       "      <td>-888</td>\n",
       "    </tr>\n",
       "    <tr>\n",
       "      <th>4527713716</th>\n",
       "      <td>18032</td>\n",
       "      <td>19909</td>\n",
       "      <td>-1877</td>\n",
       "      <td>1877</td>\n",
       "    </tr>\n",
       "    <tr>\n",
       "      <th>4527628313</th>\n",
       "      <td>17229</td>\n",
       "      <td>18314</td>\n",
       "      <td>-1085</td>\n",
       "      <td>1085</td>\n",
       "    </tr>\n",
       "    <tr>\n",
       "      <th>4523772935</th>\n",
       "      <td>17321</td>\n",
       "      <td>17379</td>\n",
       "      <td>-58</td>\n",
       "      <td>58</td>\n",
       "    </tr>\n",
       "  </tbody>\n",
       "</table>\n",
       "<p>9879 rows × 4 columns</p>\n",
       "</div>"
      ],
      "text/plain": [
       "            blueTotalExperience  redTotalExperience  blueExperienceDiff  \\\n",
       "gameId                                                                    \n",
       "4519157822                17039               17047                  -8   \n",
       "4523371949                16265               17438               -1173   \n",
       "4521474530                16221               17254               -1033   \n",
       "4524384067                17954               17961                  -7   \n",
       "4436033771                18543               18313                 230   \n",
       "...                         ...                 ...                 ...   \n",
       "4527873286                18967               16498                2469   \n",
       "4527797466                19255               18367                 888   \n",
       "4527713716                18032               19909               -1877   \n",
       "4527628313                17229               18314               -1085   \n",
       "4523772935                17321               17379                 -58   \n",
       "\n",
       "            redExperienceDiff  \n",
       "gameId                         \n",
       "4519157822                  8  \n",
       "4523371949               1173  \n",
       "4521474530               1033  \n",
       "4524384067                  7  \n",
       "4436033771               -230  \n",
       "...                       ...  \n",
       "4527873286              -2469  \n",
       "4527797466               -888  \n",
       "4527713716               1877  \n",
       "4527628313               1085  \n",
       "4523772935                 58  \n",
       "\n",
       "[9879 rows x 4 columns]"
      ]
     },
     "execution_count": 6,
     "metadata": {},
     "output_type": "execute_result"
    }
   ],
   "source": [
    "game_10m_data[[\"blueTotalExperience\", \"redTotalExperience\", \"blueExperienceDiff\", \"redExperienceDiff\"]]"
   ]
  },
  {
   "cell_type": "code",
   "execution_count": 7,
   "metadata": {},
   "outputs": [],
   "source": [
    "game_10m_data = game_10m_data.drop([\"redFirstBlood\", \"redTotalExperience\", \"redExperienceDiff\", \"redTotalGold\", \"redGoldDiff\"], axis = 1)"
   ]
  },
  {
   "cell_type": "code",
   "execution_count": 8,
   "metadata": {
    "scrolled": true
   },
   "outputs": [
    {
     "data": {
      "text/html": [
       "<div>\n",
       "<style scoped>\n",
       "    .dataframe tbody tr th:only-of-type {\n",
       "        vertical-align: middle;\n",
       "    }\n",
       "\n",
       "    .dataframe tbody tr th {\n",
       "        vertical-align: top;\n",
       "    }\n",
       "\n",
       "    .dataframe thead th {\n",
       "        text-align: right;\n",
       "    }\n",
       "</style>\n",
       "<table border=\"1\" class=\"dataframe\">\n",
       "  <thead>\n",
       "    <tr style=\"text-align: right;\">\n",
       "      <th></th>\n",
       "      <th>blueWins</th>\n",
       "      <th>blueWardsPlaced</th>\n",
       "      <th>blueWardsDestroyed</th>\n",
       "      <th>blueFirstBlood</th>\n",
       "      <th>blueKills</th>\n",
       "      <th>blueDeaths</th>\n",
       "      <th>blueAssists</th>\n",
       "      <th>blueEliteMonsters</th>\n",
       "      <th>blueDragons</th>\n",
       "      <th>blueHeralds</th>\n",
       "      <th>...</th>\n",
       "      <th>redAssists</th>\n",
       "      <th>redEliteMonsters</th>\n",
       "      <th>redDragons</th>\n",
       "      <th>redHeralds</th>\n",
       "      <th>redTowersDestroyed</th>\n",
       "      <th>redAvgLevel</th>\n",
       "      <th>redTotalMinionsKilled</th>\n",
       "      <th>redTotalJungleMinionsKilled</th>\n",
       "      <th>redCSPerMin</th>\n",
       "      <th>redGoldPerMin</th>\n",
       "    </tr>\n",
       "    <tr>\n",
       "      <th>gameId</th>\n",
       "      <th></th>\n",
       "      <th></th>\n",
       "      <th></th>\n",
       "      <th></th>\n",
       "      <th></th>\n",
       "      <th></th>\n",
       "      <th></th>\n",
       "      <th></th>\n",
       "      <th></th>\n",
       "      <th></th>\n",
       "      <th></th>\n",
       "      <th></th>\n",
       "      <th></th>\n",
       "      <th></th>\n",
       "      <th></th>\n",
       "      <th></th>\n",
       "      <th></th>\n",
       "      <th></th>\n",
       "      <th></th>\n",
       "      <th></th>\n",
       "      <th></th>\n",
       "    </tr>\n",
       "  </thead>\n",
       "  <tbody>\n",
       "    <tr>\n",
       "      <th>4519157822</th>\n",
       "      <td>0</td>\n",
       "      <td>28</td>\n",
       "      <td>2</td>\n",
       "      <td>1</td>\n",
       "      <td>9</td>\n",
       "      <td>6</td>\n",
       "      <td>11</td>\n",
       "      <td>0</td>\n",
       "      <td>0</td>\n",
       "      <td>0</td>\n",
       "      <td>...</td>\n",
       "      <td>8</td>\n",
       "      <td>0</td>\n",
       "      <td>0</td>\n",
       "      <td>0</td>\n",
       "      <td>0</td>\n",
       "      <td>6.8</td>\n",
       "      <td>197</td>\n",
       "      <td>55</td>\n",
       "      <td>19.7</td>\n",
       "      <td>1656.7</td>\n",
       "    </tr>\n",
       "    <tr>\n",
       "      <th>4523371949</th>\n",
       "      <td>0</td>\n",
       "      <td>12</td>\n",
       "      <td>1</td>\n",
       "      <td>0</td>\n",
       "      <td>5</td>\n",
       "      <td>5</td>\n",
       "      <td>5</td>\n",
       "      <td>0</td>\n",
       "      <td>0</td>\n",
       "      <td>0</td>\n",
       "      <td>...</td>\n",
       "      <td>2</td>\n",
       "      <td>2</td>\n",
       "      <td>1</td>\n",
       "      <td>1</td>\n",
       "      <td>1</td>\n",
       "      <td>6.8</td>\n",
       "      <td>240</td>\n",
       "      <td>52</td>\n",
       "      <td>24.0</td>\n",
       "      <td>1762.0</td>\n",
       "    </tr>\n",
       "    <tr>\n",
       "      <th>4521474530</th>\n",
       "      <td>0</td>\n",
       "      <td>15</td>\n",
       "      <td>0</td>\n",
       "      <td>0</td>\n",
       "      <td>7</td>\n",
       "      <td>11</td>\n",
       "      <td>4</td>\n",
       "      <td>1</td>\n",
       "      <td>1</td>\n",
       "      <td>0</td>\n",
       "      <td>...</td>\n",
       "      <td>14</td>\n",
       "      <td>0</td>\n",
       "      <td>0</td>\n",
       "      <td>0</td>\n",
       "      <td>0</td>\n",
       "      <td>6.8</td>\n",
       "      <td>203</td>\n",
       "      <td>28</td>\n",
       "      <td>20.3</td>\n",
       "      <td>1728.5</td>\n",
       "    </tr>\n",
       "    <tr>\n",
       "      <th>4524384067</th>\n",
       "      <td>0</td>\n",
       "      <td>43</td>\n",
       "      <td>1</td>\n",
       "      <td>0</td>\n",
       "      <td>4</td>\n",
       "      <td>5</td>\n",
       "      <td>5</td>\n",
       "      <td>1</td>\n",
       "      <td>0</td>\n",
       "      <td>1</td>\n",
       "      <td>...</td>\n",
       "      <td>10</td>\n",
       "      <td>0</td>\n",
       "      <td>0</td>\n",
       "      <td>0</td>\n",
       "      <td>0</td>\n",
       "      <td>7.0</td>\n",
       "      <td>235</td>\n",
       "      <td>47</td>\n",
       "      <td>23.5</td>\n",
       "      <td>1647.8</td>\n",
       "    </tr>\n",
       "    <tr>\n",
       "      <th>4436033771</th>\n",
       "      <td>0</td>\n",
       "      <td>75</td>\n",
       "      <td>4</td>\n",
       "      <td>0</td>\n",
       "      <td>6</td>\n",
       "      <td>6</td>\n",
       "      <td>6</td>\n",
       "      <td>0</td>\n",
       "      <td>0</td>\n",
       "      <td>0</td>\n",
       "      <td>...</td>\n",
       "      <td>7</td>\n",
       "      <td>1</td>\n",
       "      <td>1</td>\n",
       "      <td>0</td>\n",
       "      <td>0</td>\n",
       "      <td>7.0</td>\n",
       "      <td>225</td>\n",
       "      <td>67</td>\n",
       "      <td>22.5</td>\n",
       "      <td>1740.4</td>\n",
       "    </tr>\n",
       "    <tr>\n",
       "      <th>...</th>\n",
       "      <td>...</td>\n",
       "      <td>...</td>\n",
       "      <td>...</td>\n",
       "      <td>...</td>\n",
       "      <td>...</td>\n",
       "      <td>...</td>\n",
       "      <td>...</td>\n",
       "      <td>...</td>\n",
       "      <td>...</td>\n",
       "      <td>...</td>\n",
       "      <td>...</td>\n",
       "      <td>...</td>\n",
       "      <td>...</td>\n",
       "      <td>...</td>\n",
       "      <td>...</td>\n",
       "      <td>...</td>\n",
       "      <td>...</td>\n",
       "      <td>...</td>\n",
       "      <td>...</td>\n",
       "      <td>...</td>\n",
       "      <td>...</td>\n",
       "    </tr>\n",
       "    <tr>\n",
       "      <th>4527873286</th>\n",
       "      <td>1</td>\n",
       "      <td>17</td>\n",
       "      <td>2</td>\n",
       "      <td>1</td>\n",
       "      <td>7</td>\n",
       "      <td>4</td>\n",
       "      <td>5</td>\n",
       "      <td>1</td>\n",
       "      <td>1</td>\n",
       "      <td>0</td>\n",
       "      <td>...</td>\n",
       "      <td>7</td>\n",
       "      <td>0</td>\n",
       "      <td>0</td>\n",
       "      <td>0</td>\n",
       "      <td>0</td>\n",
       "      <td>6.8</td>\n",
       "      <td>229</td>\n",
       "      <td>34</td>\n",
       "      <td>22.9</td>\n",
       "      <td>1524.6</td>\n",
       "    </tr>\n",
       "    <tr>\n",
       "      <th>4527797466</th>\n",
       "      <td>1</td>\n",
       "      <td>54</td>\n",
       "      <td>0</td>\n",
       "      <td>0</td>\n",
       "      <td>6</td>\n",
       "      <td>4</td>\n",
       "      <td>8</td>\n",
       "      <td>1</td>\n",
       "      <td>1</td>\n",
       "      <td>0</td>\n",
       "      <td>...</td>\n",
       "      <td>3</td>\n",
       "      <td>0</td>\n",
       "      <td>0</td>\n",
       "      <td>0</td>\n",
       "      <td>0</td>\n",
       "      <td>7.0</td>\n",
       "      <td>206</td>\n",
       "      <td>56</td>\n",
       "      <td>20.6</td>\n",
       "      <td>1545.6</td>\n",
       "    </tr>\n",
       "    <tr>\n",
       "      <th>4527713716</th>\n",
       "      <td>0</td>\n",
       "      <td>23</td>\n",
       "      <td>1</td>\n",
       "      <td>0</td>\n",
       "      <td>6</td>\n",
       "      <td>7</td>\n",
       "      <td>5</td>\n",
       "      <td>0</td>\n",
       "      <td>0</td>\n",
       "      <td>0</td>\n",
       "      <td>...</td>\n",
       "      <td>11</td>\n",
       "      <td>1</td>\n",
       "      <td>1</td>\n",
       "      <td>0</td>\n",
       "      <td>0</td>\n",
       "      <td>7.4</td>\n",
       "      <td>261</td>\n",
       "      <td>60</td>\n",
       "      <td>26.1</td>\n",
       "      <td>1831.9</td>\n",
       "    </tr>\n",
       "    <tr>\n",
       "      <th>4527628313</th>\n",
       "      <td>0</td>\n",
       "      <td>14</td>\n",
       "      <td>4</td>\n",
       "      <td>1</td>\n",
       "      <td>2</td>\n",
       "      <td>3</td>\n",
       "      <td>3</td>\n",
       "      <td>1</td>\n",
       "      <td>1</td>\n",
       "      <td>0</td>\n",
       "      <td>...</td>\n",
       "      <td>1</td>\n",
       "      <td>0</td>\n",
       "      <td>0</td>\n",
       "      <td>0</td>\n",
       "      <td>0</td>\n",
       "      <td>7.2</td>\n",
       "      <td>247</td>\n",
       "      <td>40</td>\n",
       "      <td>24.7</td>\n",
       "      <td>1529.8</td>\n",
       "    </tr>\n",
       "    <tr>\n",
       "      <th>4523772935</th>\n",
       "      <td>1</td>\n",
       "      <td>18</td>\n",
       "      <td>0</td>\n",
       "      <td>1</td>\n",
       "      <td>6</td>\n",
       "      <td>6</td>\n",
       "      <td>5</td>\n",
       "      <td>0</td>\n",
       "      <td>0</td>\n",
       "      <td>0</td>\n",
       "      <td>...</td>\n",
       "      <td>4</td>\n",
       "      <td>1</td>\n",
       "      <td>1</td>\n",
       "      <td>0</td>\n",
       "      <td>0</td>\n",
       "      <td>6.8</td>\n",
       "      <td>201</td>\n",
       "      <td>46</td>\n",
       "      <td>20.1</td>\n",
       "      <td>1533.9</td>\n",
       "    </tr>\n",
       "  </tbody>\n",
       "</table>\n",
       "<p>9879 rows × 34 columns</p>\n",
       "</div>"
      ],
      "text/plain": [
       "            blueWins  blueWardsPlaced  blueWardsDestroyed  blueFirstBlood  \\\n",
       "gameId                                                                      \n",
       "4519157822         0               28                   2               1   \n",
       "4523371949         0               12                   1               0   \n",
       "4521474530         0               15                   0               0   \n",
       "4524384067         0               43                   1               0   \n",
       "4436033771         0               75                   4               0   \n",
       "...              ...              ...                 ...             ...   \n",
       "4527873286         1               17                   2               1   \n",
       "4527797466         1               54                   0               0   \n",
       "4527713716         0               23                   1               0   \n",
       "4527628313         0               14                   4               1   \n",
       "4523772935         1               18                   0               1   \n",
       "\n",
       "            blueKills  blueDeaths  blueAssists  blueEliteMonsters  \\\n",
       "gameId                                                              \n",
       "4519157822          9           6           11                  0   \n",
       "4523371949          5           5            5                  0   \n",
       "4521474530          7          11            4                  1   \n",
       "4524384067          4           5            5                  1   \n",
       "4436033771          6           6            6                  0   \n",
       "...               ...         ...          ...                ...   \n",
       "4527873286          7           4            5                  1   \n",
       "4527797466          6           4            8                  1   \n",
       "4527713716          6           7            5                  0   \n",
       "4527628313          2           3            3                  1   \n",
       "4523772935          6           6            5                  0   \n",
       "\n",
       "            blueDragons  blueHeralds  ...  redAssists  redEliteMonsters  \\\n",
       "gameId                                ...                                 \n",
       "4519157822            0            0  ...           8                 0   \n",
       "4523371949            0            0  ...           2                 2   \n",
       "4521474530            1            0  ...          14                 0   \n",
       "4524384067            0            1  ...          10                 0   \n",
       "4436033771            0            0  ...           7                 1   \n",
       "...                 ...          ...  ...         ...               ...   \n",
       "4527873286            1            0  ...           7                 0   \n",
       "4527797466            1            0  ...           3                 0   \n",
       "4527713716            0            0  ...          11                 1   \n",
       "4527628313            1            0  ...           1                 0   \n",
       "4523772935            0            0  ...           4                 1   \n",
       "\n",
       "            redDragons  redHeralds  redTowersDestroyed  redAvgLevel  \\\n",
       "gameId                                                                \n",
       "4519157822           0           0                   0          6.8   \n",
       "4523371949           1           1                   1          6.8   \n",
       "4521474530           0           0                   0          6.8   \n",
       "4524384067           0           0                   0          7.0   \n",
       "4436033771           1           0                   0          7.0   \n",
       "...                ...         ...                 ...          ...   \n",
       "4527873286           0           0                   0          6.8   \n",
       "4527797466           0           0                   0          7.0   \n",
       "4527713716           1           0                   0          7.4   \n",
       "4527628313           0           0                   0          7.2   \n",
       "4523772935           1           0                   0          6.8   \n",
       "\n",
       "            redTotalMinionsKilled  redTotalJungleMinionsKilled  redCSPerMin  \\\n",
       "gameId                                                                        \n",
       "4519157822                    197                           55         19.7   \n",
       "4523371949                    240                           52         24.0   \n",
       "4521474530                    203                           28         20.3   \n",
       "4524384067                    235                           47         23.5   \n",
       "4436033771                    225                           67         22.5   \n",
       "...                           ...                          ...          ...   \n",
       "4527873286                    229                           34         22.9   \n",
       "4527797466                    206                           56         20.6   \n",
       "4527713716                    261                           60         26.1   \n",
       "4527628313                    247                           40         24.7   \n",
       "4523772935                    201                           46         20.1   \n",
       "\n",
       "            redGoldPerMin  \n",
       "gameId                     \n",
       "4519157822         1656.7  \n",
       "4523371949         1762.0  \n",
       "4521474530         1728.5  \n",
       "4524384067         1647.8  \n",
       "4436033771         1740.4  \n",
       "...                   ...  \n",
       "4527873286         1524.6  \n",
       "4527797466         1545.6  \n",
       "4527713716         1831.9  \n",
       "4527628313         1529.8  \n",
       "4523772935         1533.9  \n",
       "\n",
       "[9879 rows x 34 columns]"
      ]
     },
     "execution_count": 8,
     "metadata": {},
     "output_type": "execute_result"
    }
   ],
   "source": [
    "game_10m_data"
   ]
  },
  {
   "cell_type": "code",
   "execution_count": 9,
   "metadata": {},
   "outputs": [
    {
     "data": {
      "text/html": [
       "<div>\n",
       "<style scoped>\n",
       "    .dataframe tbody tr th:only-of-type {\n",
       "        vertical-align: middle;\n",
       "    }\n",
       "\n",
       "    .dataframe tbody tr th {\n",
       "        vertical-align: top;\n",
       "    }\n",
       "\n",
       "    .dataframe thead th {\n",
       "        text-align: right;\n",
       "    }\n",
       "</style>\n",
       "<table border=\"1\" class=\"dataframe\">\n",
       "  <thead>\n",
       "    <tr style=\"text-align: right;\">\n",
       "      <th></th>\n",
       "      <th>blueWins</th>\n",
       "      <th>blueWardsPlaced</th>\n",
       "      <th>blueWardsDestroyed</th>\n",
       "      <th>blueFirstBlood</th>\n",
       "      <th>blueKills</th>\n",
       "      <th>blueDeaths</th>\n",
       "      <th>blueAssists</th>\n",
       "      <th>blueEliteMonsters</th>\n",
       "      <th>blueDragons</th>\n",
       "      <th>blueHeralds</th>\n",
       "      <th>...</th>\n",
       "      <th>redAssists</th>\n",
       "      <th>redEliteMonsters</th>\n",
       "      <th>redDragons</th>\n",
       "      <th>redHeralds</th>\n",
       "      <th>redTowersDestroyed</th>\n",
       "      <th>redAvgLevel</th>\n",
       "      <th>redTotalMinionsKilled</th>\n",
       "      <th>redTotalJungleMinionsKilled</th>\n",
       "      <th>redCSPerMin</th>\n",
       "      <th>redGoldPerMin</th>\n",
       "    </tr>\n",
       "    <tr>\n",
       "      <th>gameId</th>\n",
       "      <th></th>\n",
       "      <th></th>\n",
       "      <th></th>\n",
       "      <th></th>\n",
       "      <th></th>\n",
       "      <th></th>\n",
       "      <th></th>\n",
       "      <th></th>\n",
       "      <th></th>\n",
       "      <th></th>\n",
       "      <th></th>\n",
       "      <th></th>\n",
       "      <th></th>\n",
       "      <th></th>\n",
       "      <th></th>\n",
       "      <th></th>\n",
       "      <th></th>\n",
       "      <th></th>\n",
       "      <th></th>\n",
       "      <th></th>\n",
       "      <th></th>\n",
       "    </tr>\n",
       "  </thead>\n",
       "  <tbody>\n",
       "    <tr>\n",
       "      <th>4519157822</th>\n",
       "      <td>0</td>\n",
       "      <td>28</td>\n",
       "      <td>2</td>\n",
       "      <td>1</td>\n",
       "      <td>9</td>\n",
       "      <td>6</td>\n",
       "      <td>11</td>\n",
       "      <td>0</td>\n",
       "      <td>0</td>\n",
       "      <td>0</td>\n",
       "      <td>...</td>\n",
       "      <td>8</td>\n",
       "      <td>0</td>\n",
       "      <td>0</td>\n",
       "      <td>0</td>\n",
       "      <td>0</td>\n",
       "      <td>6.8</td>\n",
       "      <td>197</td>\n",
       "      <td>55</td>\n",
       "      <td>19.7</td>\n",
       "      <td>1656.7</td>\n",
       "    </tr>\n",
       "    <tr>\n",
       "      <th>4523371949</th>\n",
       "      <td>0</td>\n",
       "      <td>12</td>\n",
       "      <td>1</td>\n",
       "      <td>0</td>\n",
       "      <td>5</td>\n",
       "      <td>5</td>\n",
       "      <td>5</td>\n",
       "      <td>0</td>\n",
       "      <td>0</td>\n",
       "      <td>0</td>\n",
       "      <td>...</td>\n",
       "      <td>2</td>\n",
       "      <td>2</td>\n",
       "      <td>1</td>\n",
       "      <td>1</td>\n",
       "      <td>1</td>\n",
       "      <td>6.8</td>\n",
       "      <td>240</td>\n",
       "      <td>52</td>\n",
       "      <td>24.0</td>\n",
       "      <td>1762.0</td>\n",
       "    </tr>\n",
       "    <tr>\n",
       "      <th>4521474530</th>\n",
       "      <td>0</td>\n",
       "      <td>15</td>\n",
       "      <td>0</td>\n",
       "      <td>0</td>\n",
       "      <td>7</td>\n",
       "      <td>11</td>\n",
       "      <td>4</td>\n",
       "      <td>1</td>\n",
       "      <td>1</td>\n",
       "      <td>0</td>\n",
       "      <td>...</td>\n",
       "      <td>14</td>\n",
       "      <td>0</td>\n",
       "      <td>0</td>\n",
       "      <td>0</td>\n",
       "      <td>0</td>\n",
       "      <td>6.8</td>\n",
       "      <td>203</td>\n",
       "      <td>28</td>\n",
       "      <td>20.3</td>\n",
       "      <td>1728.5</td>\n",
       "    </tr>\n",
       "    <tr>\n",
       "      <th>4524384067</th>\n",
       "      <td>0</td>\n",
       "      <td>43</td>\n",
       "      <td>1</td>\n",
       "      <td>0</td>\n",
       "      <td>4</td>\n",
       "      <td>5</td>\n",
       "      <td>5</td>\n",
       "      <td>1</td>\n",
       "      <td>0</td>\n",
       "      <td>1</td>\n",
       "      <td>...</td>\n",
       "      <td>10</td>\n",
       "      <td>0</td>\n",
       "      <td>0</td>\n",
       "      <td>0</td>\n",
       "      <td>0</td>\n",
       "      <td>7.0</td>\n",
       "      <td>235</td>\n",
       "      <td>47</td>\n",
       "      <td>23.5</td>\n",
       "      <td>1647.8</td>\n",
       "    </tr>\n",
       "    <tr>\n",
       "      <th>4436033771</th>\n",
       "      <td>0</td>\n",
       "      <td>75</td>\n",
       "      <td>4</td>\n",
       "      <td>0</td>\n",
       "      <td>6</td>\n",
       "      <td>6</td>\n",
       "      <td>6</td>\n",
       "      <td>0</td>\n",
       "      <td>0</td>\n",
       "      <td>0</td>\n",
       "      <td>...</td>\n",
       "      <td>7</td>\n",
       "      <td>1</td>\n",
       "      <td>1</td>\n",
       "      <td>0</td>\n",
       "      <td>0</td>\n",
       "      <td>7.0</td>\n",
       "      <td>225</td>\n",
       "      <td>67</td>\n",
       "      <td>22.5</td>\n",
       "      <td>1740.4</td>\n",
       "    </tr>\n",
       "    <tr>\n",
       "      <th>...</th>\n",
       "      <td>...</td>\n",
       "      <td>...</td>\n",
       "      <td>...</td>\n",
       "      <td>...</td>\n",
       "      <td>...</td>\n",
       "      <td>...</td>\n",
       "      <td>...</td>\n",
       "      <td>...</td>\n",
       "      <td>...</td>\n",
       "      <td>...</td>\n",
       "      <td>...</td>\n",
       "      <td>...</td>\n",
       "      <td>...</td>\n",
       "      <td>...</td>\n",
       "      <td>...</td>\n",
       "      <td>...</td>\n",
       "      <td>...</td>\n",
       "      <td>...</td>\n",
       "      <td>...</td>\n",
       "      <td>...</td>\n",
       "      <td>...</td>\n",
       "    </tr>\n",
       "    <tr>\n",
       "      <th>4527873286</th>\n",
       "      <td>1</td>\n",
       "      <td>17</td>\n",
       "      <td>2</td>\n",
       "      <td>1</td>\n",
       "      <td>7</td>\n",
       "      <td>4</td>\n",
       "      <td>5</td>\n",
       "      <td>1</td>\n",
       "      <td>1</td>\n",
       "      <td>0</td>\n",
       "      <td>...</td>\n",
       "      <td>7</td>\n",
       "      <td>0</td>\n",
       "      <td>0</td>\n",
       "      <td>0</td>\n",
       "      <td>0</td>\n",
       "      <td>6.8</td>\n",
       "      <td>229</td>\n",
       "      <td>34</td>\n",
       "      <td>22.9</td>\n",
       "      <td>1524.6</td>\n",
       "    </tr>\n",
       "    <tr>\n",
       "      <th>4527797466</th>\n",
       "      <td>1</td>\n",
       "      <td>54</td>\n",
       "      <td>0</td>\n",
       "      <td>0</td>\n",
       "      <td>6</td>\n",
       "      <td>4</td>\n",
       "      <td>8</td>\n",
       "      <td>1</td>\n",
       "      <td>1</td>\n",
       "      <td>0</td>\n",
       "      <td>...</td>\n",
       "      <td>3</td>\n",
       "      <td>0</td>\n",
       "      <td>0</td>\n",
       "      <td>0</td>\n",
       "      <td>0</td>\n",
       "      <td>7.0</td>\n",
       "      <td>206</td>\n",
       "      <td>56</td>\n",
       "      <td>20.6</td>\n",
       "      <td>1545.6</td>\n",
       "    </tr>\n",
       "    <tr>\n",
       "      <th>4527713716</th>\n",
       "      <td>0</td>\n",
       "      <td>23</td>\n",
       "      <td>1</td>\n",
       "      <td>0</td>\n",
       "      <td>6</td>\n",
       "      <td>7</td>\n",
       "      <td>5</td>\n",
       "      <td>0</td>\n",
       "      <td>0</td>\n",
       "      <td>0</td>\n",
       "      <td>...</td>\n",
       "      <td>11</td>\n",
       "      <td>1</td>\n",
       "      <td>1</td>\n",
       "      <td>0</td>\n",
       "      <td>0</td>\n",
       "      <td>7.4</td>\n",
       "      <td>261</td>\n",
       "      <td>60</td>\n",
       "      <td>26.1</td>\n",
       "      <td>1831.9</td>\n",
       "    </tr>\n",
       "    <tr>\n",
       "      <th>4527628313</th>\n",
       "      <td>0</td>\n",
       "      <td>14</td>\n",
       "      <td>4</td>\n",
       "      <td>1</td>\n",
       "      <td>2</td>\n",
       "      <td>3</td>\n",
       "      <td>3</td>\n",
       "      <td>1</td>\n",
       "      <td>1</td>\n",
       "      <td>0</td>\n",
       "      <td>...</td>\n",
       "      <td>1</td>\n",
       "      <td>0</td>\n",
       "      <td>0</td>\n",
       "      <td>0</td>\n",
       "      <td>0</td>\n",
       "      <td>7.2</td>\n",
       "      <td>247</td>\n",
       "      <td>40</td>\n",
       "      <td>24.7</td>\n",
       "      <td>1529.8</td>\n",
       "    </tr>\n",
       "    <tr>\n",
       "      <th>4523772935</th>\n",
       "      <td>1</td>\n",
       "      <td>18</td>\n",
       "      <td>0</td>\n",
       "      <td>1</td>\n",
       "      <td>6</td>\n",
       "      <td>6</td>\n",
       "      <td>5</td>\n",
       "      <td>0</td>\n",
       "      <td>0</td>\n",
       "      <td>0</td>\n",
       "      <td>...</td>\n",
       "      <td>4</td>\n",
       "      <td>1</td>\n",
       "      <td>1</td>\n",
       "      <td>0</td>\n",
       "      <td>0</td>\n",
       "      <td>6.8</td>\n",
       "      <td>201</td>\n",
       "      <td>46</td>\n",
       "      <td>20.1</td>\n",
       "      <td>1533.9</td>\n",
       "    </tr>\n",
       "  </tbody>\n",
       "</table>\n",
       "<p>9879 rows × 34 columns</p>\n",
       "</div>"
      ],
      "text/plain": [
       "            blueWins  blueWardsPlaced  blueWardsDestroyed  blueFirstBlood  \\\n",
       "gameId                                                                      \n",
       "4519157822         0               28                   2               1   \n",
       "4523371949         0               12                   1               0   \n",
       "4521474530         0               15                   0               0   \n",
       "4524384067         0               43                   1               0   \n",
       "4436033771         0               75                   4               0   \n",
       "...              ...              ...                 ...             ...   \n",
       "4527873286         1               17                   2               1   \n",
       "4527797466         1               54                   0               0   \n",
       "4527713716         0               23                   1               0   \n",
       "4527628313         0               14                   4               1   \n",
       "4523772935         1               18                   0               1   \n",
       "\n",
       "            blueKills  blueDeaths  blueAssists  blueEliteMonsters  \\\n",
       "gameId                                                              \n",
       "4519157822          9           6           11                  0   \n",
       "4523371949          5           5            5                  0   \n",
       "4521474530          7          11            4                  1   \n",
       "4524384067          4           5            5                  1   \n",
       "4436033771          6           6            6                  0   \n",
       "...               ...         ...          ...                ...   \n",
       "4527873286          7           4            5                  1   \n",
       "4527797466          6           4            8                  1   \n",
       "4527713716          6           7            5                  0   \n",
       "4527628313          2           3            3                  1   \n",
       "4523772935          6           6            5                  0   \n",
       "\n",
       "            blueDragons  blueHeralds  ...  redAssists  redEliteMonsters  \\\n",
       "gameId                                ...                                 \n",
       "4519157822            0            0  ...           8                 0   \n",
       "4523371949            0            0  ...           2                 2   \n",
       "4521474530            1            0  ...          14                 0   \n",
       "4524384067            0            1  ...          10                 0   \n",
       "4436033771            0            0  ...           7                 1   \n",
       "...                 ...          ...  ...         ...               ...   \n",
       "4527873286            1            0  ...           7                 0   \n",
       "4527797466            1            0  ...           3                 0   \n",
       "4527713716            0            0  ...          11                 1   \n",
       "4527628313            1            0  ...           1                 0   \n",
       "4523772935            0            0  ...           4                 1   \n",
       "\n",
       "            redDragons  redHeralds  redTowersDestroyed  redAvgLevel  \\\n",
       "gameId                                                                \n",
       "4519157822           0           0                   0          6.8   \n",
       "4523371949           1           1                   1          6.8   \n",
       "4521474530           0           0                   0          6.8   \n",
       "4524384067           0           0                   0          7.0   \n",
       "4436033771           1           0                   0          7.0   \n",
       "...                ...         ...                 ...          ...   \n",
       "4527873286           0           0                   0          6.8   \n",
       "4527797466           0           0                   0          7.0   \n",
       "4527713716           1           0                   0          7.4   \n",
       "4527628313           0           0                   0          7.2   \n",
       "4523772935           1           0                   0          6.8   \n",
       "\n",
       "            redTotalMinionsKilled  redTotalJungleMinionsKilled  redCSPerMin  \\\n",
       "gameId                                                                        \n",
       "4519157822                    197                           55         19.7   \n",
       "4523371949                    240                           52         24.0   \n",
       "4521474530                    203                           28         20.3   \n",
       "4524384067                    235                           47         23.5   \n",
       "4436033771                    225                           67         22.5   \n",
       "...                           ...                          ...          ...   \n",
       "4527873286                    229                           34         22.9   \n",
       "4527797466                    206                           56         20.6   \n",
       "4527713716                    261                           60         26.1   \n",
       "4527628313                    247                           40         24.7   \n",
       "4523772935                    201                           46         20.1   \n",
       "\n",
       "            redGoldPerMin  \n",
       "gameId                     \n",
       "4519157822         1656.7  \n",
       "4523371949         1762.0  \n",
       "4521474530         1728.5  \n",
       "4524384067         1647.8  \n",
       "4436033771         1740.4  \n",
       "...                   ...  \n",
       "4527873286         1524.6  \n",
       "4527797466         1545.6  \n",
       "4527713716         1831.9  \n",
       "4527628313         1529.8  \n",
       "4523772935         1533.9  \n",
       "\n",
       "[9879 rows x 34 columns]"
      ]
     },
     "execution_count": 9,
     "metadata": {},
     "output_type": "execute_result"
    }
   ],
   "source": [
    "game_10m_data"
   ]
  },
  {
   "cell_type": "markdown",
   "metadata": {},
   "source": [
    "### Exploring the data\n",
    "\n",
    "Now when we are done with the preparation of the data we should do some exploring and visualisation. To make our work easier we will split our analysis in few different categories: vision control, objectives, champion kills, farming, and last, but not least gold and levels. After that we will analyze the complex impact of all factors using logistic regression.\n",
    "\n",
    "First of all we must check if the color of the team has anything to do with the win rate. We don't expect such thing for two reasons - First because the game should be balanced and if one of the teams is favored all the players would want to play at that team. Second, because we can't say for sure that this data is representive sample.\n"
   ]
  },
  {
   "cell_type": "code",
   "execution_count": 10,
   "metadata": {},
   "outputs": [],
   "source": [
    "game_results = game_10m_data.groupby(game_10m_data.blueWins).size()"
   ]
  },
  {
   "cell_type": "code",
   "execution_count": 11,
   "metadata": {},
   "outputs": [
    {
     "data": {
      "image/png": "[encoded data removed]",
      "text/plain": [
       "<Figure size 432x288 with 1 Axes>"
      ]
     },
     "metadata": {
      "needs_background": "light"
     },
     "output_type": "display_data"
    }
   ],
   "source": [
    "plt.bar(game_results.index, game_results, width = 0.5)\n",
    "plt.xlabel(\"Game result (0 = lose , 1 = win)\")\n",
    "plt.ylabel(\"Number of games\")\n",
    "plt.show()"
   ]
  },
  {
   "cell_type": "markdown",
   "metadata": {},
   "source": [
    "As we see from the graphic there is no significant difference between the wins and the losses. Just to be sure we can do 2 things, the first is to calculate and show it with numbers and second thing is to check it in the internet."
   ]
  },
  {
   "cell_type": "code",
   "execution_count": 12,
   "metadata": {},
   "outputs": [
    {
     "name": "stdout",
     "output_type": "stream",
     "text": [
      "Blue team win rate is 49.90%\n",
      "Red team win rate is 50.10%\n"
     ]
    }
   ],
   "source": [
    "total_games = len(game_10m_data.blueWins)\n",
    "wins = sum(game_10m_data.blueWins)\n",
    "losses = total_games - wins\n",
    "print(f\"Blue team win rate is {(wins/total_games)*100:.2f}%\")\n",
    "print(f\"Red team win rate is {(losses/total_games)*100:.2f}%\")"
   ]
  },
  {
   "cell_type": "markdown",
   "metadata": {},
   "source": [
    "According to \"League of graphs\" for Diamond games with length between 25 to 35 minutes the average win rate for blue team is 50.10%, respectively 49.90% for the red team. Our results are not that different, which in some way means that we can assume that our sample is representive.\n",
    "\n",
    "In each category I will be showing a few features for both the blue and the red team. Showing their differences or similarity in the behaviour."
   ]
  },
  {
   "cell_type": "markdown",
   "metadata": {},
   "source": [
    "#### Vision control\n",
    "\n",
    "Now let's see how the vision control interfere with our win rate. Let's start with the placed wards by the blue team."
   ]
  },
  {
   "cell_type": "code",
   "execution_count": 13,
   "metadata": {},
   "outputs": [],
   "source": [
    "blue_wins_data = game_10m_data[game_10m_data.blueWins == 1]\n",
    "red_wins_data = game_10m_data[game_10m_data.blueWins == 0]"
   ]
  },
  {
   "cell_type": "code",
   "execution_count": 14,
   "metadata": {},
   "outputs": [
    {
     "data": {
      "text/plain": [
       "blueWardsPlaced\n",
       "5       1\n",
       "7       1\n",
       "8       6\n",
       "9      16\n",
       "10     42\n",
       "       ..\n",
       "176     1\n",
       "183     1\n",
       "185     1\n",
       "203     1\n",
       "250     1\n",
       "Length: 127, dtype: int64"
      ]
     },
     "execution_count": 14,
     "metadata": {},
     "output_type": "execute_result"
    }
   ],
   "source": [
    "blue_wards_placed = blue_wins_data.groupby(blue_wins_data.blueWardsPlaced).size()\n",
    "blue_wards_placed"
   ]
  },
  {
   "cell_type": "code",
   "execution_count": 15,
   "metadata": {},
   "outputs": [],
   "source": [
    "def ploting_grouped_elements(group, xtext, ytext, type_of_plot = \"bar\"):\n",
    "    if type_of_plot == \"bar\":\n",
    "        plt.bar(group.index, group)\n",
    "    elif type_of_plot == \"line\":\n",
    "        plt.plot(group.index, group)\n",
    "    elif type_of_plot == \"hist\":\n",
    "        plt.hist(group.index)\n",
    "    plt.xlabel(xtext)\n",
    "    plt.ylabel(ytext)\n",
    "    plt.show()"
   ]
  },
  {
   "cell_type": "code",
   "execution_count": 16,
   "metadata": {},
   "outputs": [
    {
     "data": {
      "image/png": "[encoded data removed]",
      "text/plain": [
       "<Figure size 432x288 with 1 Axes>"
      ]
     },
     "metadata": {
      "needs_background": "light"
     },
     "output_type": "display_data"
    }
   ],
   "source": [
    "ploting_grouped_elements(blue_wards_placed, \"Number of placed wards\", \"Number of won games\")"
   ]
  },
  {
   "cell_type": "markdown",
   "metadata": {},
   "source": [
    "This is an interesting results for a few reasons. \n",
    "\n",
    "The first reason is that we have a huge peak somewhere between 0 and 25 placed wards. It's easy to assume that with the number of placed wards increasing we will have increased number of won games, but as we see it's not like that. The reason for this is that vision control is complex factor consisting of other things besides the placed wards of one of the teams. Another reason for this is that we don't have that much games in which people place more than 50 wards. But this is the reasoning of a person who has knowledge of the game.\n",
    "\n",
    "Another reason which makes the plot interesting is the long tale that continues even after 150 placed wards.\n",
    "\n",
    "Let's see where exactly is this peak and divide the graphic in smaller ones."
   ]
  },
  {
   "cell_type": "code",
   "execution_count": 17,
   "metadata": {},
   "outputs": [
    {
     "data": {
      "text/plain": [
       "(16, 638)"
      ]
     },
     "execution_count": 17,
     "metadata": {},
     "output_type": "execute_result"
    }
   ],
   "source": [
    "blue_wards_placed.idxmax(), blue_wards_placed.max()"
   ]
  },
  {
   "cell_type": "code",
   "execution_count": 18,
   "metadata": {},
   "outputs": [],
   "source": [
    "bpw_part_1 = blue_wards_placed[(blue_wards_placed.index < 100)]\n",
    "bpw_part_2 = blue_wards_placed[(blue_wards_placed.index >= 100) & (blue_wards_placed.index <= 160)]\n",
    "bpw_part_3 = blue_wards_placed[(blue_wards_placed.index > 160)]"
   ]
  },
  {
   "cell_type": "code",
   "execution_count": 19,
   "metadata": {},
   "outputs": [
    {
     "data": {
      "image/png": "[encoded data removed]",
      "text/plain": [
       "<Figure size 432x288 with 1 Axes>"
      ]
     },
     "metadata": {
      "needs_background": "light"
     },
     "output_type": "display_data"
    },
    {
     "data": {
      "image/png": "[encoded data removed]",
      "text/plain": [
       "<Figure size 432x288 with 1 Axes>"
      ]
     },
     "metadata": {
      "needs_background": "light"
     },
     "output_type": "display_data"
    },
    {
     "data": {
      "image/png": "[encoded data removed]",
      "text/plain": [
       "<Figure size 432x288 with 1 Axes>"
      ]
     },
     "metadata": {
      "needs_background": "light"
     },
     "output_type": "display_data"
    }
   ],
   "source": [
    "ploting_grouped_elements(bpw_part_1, \"Number of placed wards\", \"Number of won games\")\n",
    "ploting_grouped_elements(bpw_part_2, \"Number of placed wards\", \"Number of won games\")\n",
    "ploting_grouped_elements(bpw_part_3, \"Number of placed wards\", \"Number of won games\")"
   ]
  },
  {
   "cell_type": "markdown",
   "metadata": {},
   "source": [
    "As we can see from the upper plots there are not much games where more than 50 wards are placed and had been won.\n",
    "\n",
    "Now let's see the placed wards from the red team. We can assume that we will get similar results."
   ]
  },
  {
   "cell_type": "code",
   "execution_count": 20,
   "metadata": {},
   "outputs": [
    {
     "data": {
      "text/plain": [
       "redWardsPlaced\n",
       "7       2\n",
       "8       2\n",
       "9      18\n",
       "10     42\n",
       "11     92\n",
       "       ..\n",
       "193     1\n",
       "205     1\n",
       "216     1\n",
       "230     1\n",
       "276     1\n",
       "Length: 132, dtype: int64"
      ]
     },
     "execution_count": 20,
     "metadata": {},
     "output_type": "execute_result"
    }
   ],
   "source": [
    "red_wards_placed = red_wins_data.groupby(red_wins_data.redWardsPlaced).size()\n",
    "red_wards_placed"
   ]
  },
  {
   "cell_type": "code",
   "execution_count": 21,
   "metadata": {},
   "outputs": [
    {
     "data": {
      "image/png": "[encoded data removed]",
      "text/plain": [
       "<Figure size 432x288 with 1 Axes>"
      ]
     },
     "metadata": {
      "needs_background": "light"
     },
     "output_type": "display_data"
    }
   ],
   "source": [
    "ploting_grouped_elements(red_wards_placed, \"Number of placed wards\", \"Number of won games\")"
   ]
  },
  {
   "cell_type": "markdown",
   "metadata": {},
   "source": [
    "As we assumed the results are very similar. Most won games are divided in 2 main groups where the winning team places less than 20 or between 30 and 45 wards.\n",
    "\n",
    "At last let's see how destroying wards relates to the win rate."
   ]
  },
  {
   "cell_type": "code",
   "execution_count": 22,
   "metadata": {},
   "outputs": [
    {
     "data": {
      "text/plain": [
       "blueWardsDestroyed\n",
       "0      324\n",
       "1      850\n",
       "2     1173\n",
       "3     1050\n",
       "4      723\n",
       "5      406\n",
       "6      205\n",
       "7       88\n",
       "8       35\n",
       "9       17\n",
       "10       8\n",
       "11       7\n",
       "12       6\n",
       "13       5\n",
       "14       3\n",
       "15       7\n",
       "16       6\n",
       "17       4\n",
       "18       7\n",
       "19       2\n",
       "20       1\n",
       "21       2\n",
       "24       1\n",
       "dtype: int64"
      ]
     },
     "execution_count": 22,
     "metadata": {},
     "output_type": "execute_result"
    }
   ],
   "source": [
    "blue_wards_destroyed = blue_wins_data.groupby(blue_wins_data.blueWardsDestroyed).size()\n",
    "blue_wards_destroyed"
   ]
  },
  {
   "cell_type": "code",
   "execution_count": 23,
   "metadata": {},
   "outputs": [
    {
     "data": {
      "image/png": "[encoded data removed]",
      "text/plain": [
       "<Figure size 432x288 with 1 Axes>"
      ]
     },
     "metadata": {
      "needs_background": "light"
     },
     "output_type": "display_data"
    }
   ],
   "source": [
    "ploting_grouped_elements(blue_wards_destroyed, \"Number of destroyed wards\", \"Number of won games\")"
   ]
  },
  {
   "cell_type": "code",
   "execution_count": 24,
   "metadata": {},
   "outputs": [
    {
     "data": {
      "text/plain": [
       "redWardsDestroyed\n",
       "0      333\n",
       "1      920\n",
       "2     1164\n",
       "3     1059\n",
       "4      732\n",
       "5      396\n",
       "6      179\n",
       "7       72\n",
       "8       27\n",
       "9       15\n",
       "10       4\n",
       "11       4\n",
       "12       3\n",
       "13       9\n",
       "14       4\n",
       "15       5\n",
       "16       4\n",
       "17       4\n",
       "18       4\n",
       "19       4\n",
       "20       3\n",
       "22       2\n",
       "24       2\n",
       "dtype: int64"
      ]
     },
     "execution_count": 24,
     "metadata": {},
     "output_type": "execute_result"
    }
   ],
   "source": [
    "red_wards_destroyed = red_wins_data.groupby(red_wins_data.redWardsDestroyed).size()\n",
    "red_wards_destroyed"
   ]
  },
  {
   "cell_type": "code",
   "execution_count": 25,
   "metadata": {},
   "outputs": [
    {
     "data": {
      "image/png": "[encoded data removed]",
      "text/plain": [
       "<Figure size 432x288 with 1 Axes>"
      ]
     },
     "metadata": {
      "needs_background": "light"
     },
     "output_type": "display_data"
    }
   ],
   "source": [
    "ploting_grouped_elements(red_wards_destroyed, \"Number of destroyed wards\", \"Number of won games\")"
   ]
  },
  {
   "cell_type": "markdown",
   "metadata": {},
   "source": [
    "From the upper two plots we see that in the majority of games players destroy between 0 and 10 wards and in most of them between 0 and 5. This doesn't give us much information. We should study the combination of placed and destroyed wards to make and assumption how does the vision control affects the result of the game."
   ]
  },
  {
   "cell_type": "markdown",
   "metadata": {},
   "source": [
    "#### Objectives\n",
    "\n",
    "Here we will see how killing elite monsters and destroying towers is related with the win rate. Let's start with killing the Dragon. "
   ]
  },
  {
   "cell_type": "code",
   "execution_count": 26,
   "metadata": {},
   "outputs": [
    {
     "data": {
      "text/plain": [
       "blueDragons\n",
       "0    2638\n",
       "1    2292\n",
       "dtype: int64"
      ]
     },
     "execution_count": 26,
     "metadata": {},
     "output_type": "execute_result"
    }
   ],
   "source": [
    "blue_dragons = blue_wins_data.groupby(blue_wins_data.blueDragons).size()\n",
    "blue_dragons"
   ]
  },
  {
   "cell_type": "code",
   "execution_count": 27,
   "metadata": {},
   "outputs": [
    {
     "data": {
      "image/png": "[encoded data removed]",
      "text/plain": [
       "<Figure size 432x288 with 1 Axes>"
      ]
     },
     "metadata": {
      "needs_background": "light"
     },
     "output_type": "display_data"
    }
   ],
   "source": [
    "ploting_grouped_elements(blue_dragons, \"Number of dragons killed\", \"Number of won games\")"
   ]
  },
  {
   "cell_type": "code",
   "execution_count": 28,
   "metadata": {},
   "outputs": [
    {
     "data": {
      "text/plain": [
       "redDragons\n",
       "0    2395\n",
       "1    2554\n",
       "dtype: int64"
      ]
     },
     "execution_count": 28,
     "metadata": {},
     "output_type": "execute_result"
    }
   ],
   "source": [
    "red_dragons = red_wins_data.groupby(red_wins_data.redDragons).size()\n",
    "red_dragons"
   ]
  },
  {
   "cell_type": "code",
   "execution_count": 29,
   "metadata": {},
   "outputs": [
    {
     "data": {
      "image/png": "[encoded data removed]",
      "text/plain": [
       "<Figure size 432x288 with 1 Axes>"
      ]
     },
     "metadata": {
      "needs_background": "light"
     },
     "output_type": "display_data"
    }
   ],
   "source": [
    "ploting_grouped_elements(red_dragons, \"Number of dragons killed\", \"Number of won games\")"
   ]
  },
  {
   "cell_type": "markdown",
   "metadata": {},
   "source": [
    "That's interesting, it looks like that the first dragon don't have much of an impact on the course of the game. Or atleast his impact is not in the first 10 minutes of the game.\n",
    "\n",
    "How about the Herald?"
   ]
  },
  {
   "cell_type": "code",
   "execution_count": 30,
   "metadata": {},
   "outputs": [
    {
     "data": {
      "text/plain": [
       "blueHeralds\n",
       "0    3825\n",
       "1    1105\n",
       "dtype: int64"
      ]
     },
     "execution_count": 30,
     "metadata": {},
     "output_type": "execute_result"
    }
   ],
   "source": [
    "blue_heralds = blue_wins_data.groupby(blue_wins_data.blueHeralds).size()\n",
    "blue_heralds"
   ]
  },
  {
   "cell_type": "code",
   "execution_count": 31,
   "metadata": {},
   "outputs": [
    {
     "data": {
      "image/png": "[encoded data removed]",
      "text/plain": [
       "<Figure size 432x288 with 1 Axes>"
      ]
     },
     "metadata": {
      "needs_background": "light"
     },
     "output_type": "display_data"
    }
   ],
   "source": [
    "ploting_grouped_elements(blue_heralds, \"Number of heralds killed\", \"Number of won games\")"
   ]
  },
  {
   "cell_type": "code",
   "execution_count": 32,
   "metadata": {},
   "outputs": [
    {
     "data": {
      "text/plain": [
       "redHeralds\n",
       "0    3981\n",
       "1     968\n",
       "dtype: int64"
      ]
     },
     "execution_count": 32,
     "metadata": {},
     "output_type": "execute_result"
    }
   ],
   "source": [
    "red_heralds = red_wins_data.groupby(red_wins_data.redHeralds).size()\n",
    "red_heralds"
   ]
  },
  {
   "cell_type": "code",
   "execution_count": 33,
   "metadata": {},
   "outputs": [
    {
     "data": {
      "image/png": "[encoded data removed]",
      "text/plain": [
       "<Figure size 432x288 with 1 Axes>"
      ]
     },
     "metadata": {
      "needs_background": "light"
     },
     "output_type": "display_data"
    }
   ],
   "source": [
    "ploting_grouped_elements(red_heralds, \"Number of heralds killed\", \"Number of won games\")"
   ]
  },
  {
   "cell_type": "markdown",
   "metadata": {},
   "source": [
    "Even more interesting! Looks like the teams, don't kill the Herald that oftten in the first 10 minutes of the game.\n",
    "\n",
    "Let's take a look at the destroyed towers."
   ]
  },
  {
   "cell_type": "code",
   "execution_count": 34,
   "metadata": {},
   "outputs": [
    {
     "data": {
      "text/plain": [
       "blueTowersDestroyed\n",
       "0    4580\n",
       "1     316\n",
       "2      26\n",
       "3       7\n",
       "4       1\n",
       "dtype: int64"
      ]
     },
     "execution_count": 34,
     "metadata": {},
     "output_type": "execute_result"
    }
   ],
   "source": [
    "blue_towers_destroyed = blue_wins_data.groupby(blue_wins_data.blueTowersDestroyed).size()\n",
    "blue_towers_destroyed"
   ]
  },
  {
   "cell_type": "code",
   "execution_count": 35,
   "metadata": {},
   "outputs": [
    {
     "data": {
      "image/png": "[encoded data removed]",
      "text/plain": [
       "<Figure size 432x288 with 1 Axes>"
      ]
     },
     "metadata": {
      "needs_background": "light"
     },
     "output_type": "display_data"
    }
   ],
   "source": [
    "ploting_grouped_elements(blue_towers_destroyed, \"Number of destroyed towers\", \"Number of won games\")"
   ]
  },
  {
   "cell_type": "code",
   "execution_count": 36,
   "metadata": {},
   "outputs": [
    {
     "data": {
      "text/plain": [
       "redTowersDestroyed\n",
       "0    4647\n",
       "1     280\n",
       "2      22\n",
       "dtype: int64"
      ]
     },
     "execution_count": 36,
     "metadata": {},
     "output_type": "execute_result"
    }
   ],
   "source": [
    "red_towers_destroyed = red_wins_data.groupby(red_wins_data.redTowersDestroyed).size()\n",
    "red_towers_destroyed"
   ]
  },
  {
   "cell_type": "code",
   "execution_count": 37,
   "metadata": {},
   "outputs": [
    {
     "data": {
      "image/png": "[encoded data removed]",
      "text/plain": [
       "<Figure size 432x288 with 1 Axes>"
      ]
     },
     "metadata": {
      "needs_background": "light"
     },
     "output_type": "display_data"
    }
   ],
   "source": [
    "ploting_grouped_elements(red_towers_destroyed, \"Number of destroyed towers\", \"Number of won games\")"
   ]
  },
  {
   "cell_type": "markdown",
   "metadata": {},
   "source": [
    "As we can see in most of the won games there are no destroyed towers in the first 10 minutes. However something that makes an impression are the few observations from the **blue_wins_data** dataframe that are for 3 and 4 destroyed towers. We can assume that this is not something that usually happens, but we can't neglect that it actually happened, so we can't ignore them.\n",
    "\n",
    "Taking into account that in the first 10 minutes of the game not much happened in terms of objectives we can assume that the players were \"farming\"(killing minions) or fighting each other. Let's see the minion kills."
   ]
  },
  {
   "cell_type": "markdown",
   "metadata": {},
   "source": [
    "#### Farming\n",
    "\n",
    "In this category fall the minion kills and the jungle monster kills. Let's see how does this go."
   ]
  },
  {
   "cell_type": "code",
   "execution_count": 38,
   "metadata": {},
   "outputs": [
    {
     "data": {
      "text/plain": [
       "blueTotalMinionsKilled\n",
       "143    1\n",
       "144    1\n",
       "145    1\n",
       "149    1\n",
       "150    1\n",
       "      ..\n",
       "275    1\n",
       "276    6\n",
       "279    2\n",
       "281    1\n",
       "283    1\n",
       "Length: 130, dtype: int64"
      ]
     },
     "execution_count": 38,
     "metadata": {},
     "output_type": "execute_result"
    }
   ],
   "source": [
    "blue_minion_kills = blue_wins_data.groupby(blue_wins_data.blueTotalMinionsKilled).size()\n",
    "blue_minion_kills"
   ]
  },
  {
   "cell_type": "code",
   "execution_count": 39,
   "metadata": {},
   "outputs": [
    {
     "data": {
      "image/png": "[encoded data removed]",
      "text/plain": [
       "<Figure size 432x288 with 1 Axes>"
      ]
     },
     "metadata": {
      "needs_background": "light"
     },
     "output_type": "display_data"
    }
   ],
   "source": [
    "ploting_grouped_elements(blue_minion_kills, \"Number of minions killed\", \"Number of won games\")"
   ]
  },
  {
   "cell_type": "code",
   "execution_count": 40,
   "metadata": {},
   "outputs": [
    {
     "data": {
      "text/plain": [
       "redTotalMinionsKilled\n",
       "143    1\n",
       "147    1\n",
       "151    1\n",
       "153    2\n",
       "154    2\n",
       "      ..\n",
       "278    1\n",
       "279    1\n",
       "280    1\n",
       "282    1\n",
       "289    1\n",
       "Length: 131, dtype: int64"
      ]
     },
     "execution_count": 40,
     "metadata": {},
     "output_type": "execute_result"
    }
   ],
   "source": [
    "red_minion_kills = red_wins_data.groupby(red_wins_data.redTotalMinionsKilled).size()\n",
    "red_minion_kills"
   ]
  },
  {
   "cell_type": "code",
   "execution_count": 41,
   "metadata": {},
   "outputs": [
    {
     "data": {
      "image/png": "[encoded data removed]",
      "text/plain": [
       "<Figure size 432x288 with 1 Axes>"
      ]
     },
     "metadata": {
      "needs_background": "light"
     },
     "output_type": "display_data"
    }
   ],
   "source": [
    "ploting_grouped_elements(red_minion_kills, \"Number of minions killed\", \"Number of won games\")"
   ]
  },
  {
   "cell_type": "code",
   "execution_count": 42,
   "metadata": {},
   "outputs": [
    {
     "name": "stdout",
     "output_type": "stream",
     "text": [
      "Blue team average minion kills are 217.\n",
      "Red team average minion kills are 217.\n"
     ]
    }
   ],
   "source": [
    "blue_avg_mkills = round(game_10m_data.blueTotalMinionsKilled.mean())\n",
    "red_avg_mkills = round(game_10m_data.redTotalMinionsKilled.mean())\n",
    "print(\"Blue team average minion kills are \" + str(blue_avg_mkills)+\".\")\n",
    "print(\"Red team average minion kills are \" + str(red_avg_mkills)+\".\")"
   ]
  },
  {
   "cell_type": "markdown",
   "metadata": {},
   "source": [
    "It's not surprising that we get similar results for the both team, after all we talk about people who are on the same skill level. According to the Internet the result of average 217 minions kills per team for 10 minutes is normal. The average for a player is 72, so we have 3 lanes with a player farming on each, 1 support and 1 jungler, which is great.\n",
    "\n",
    "Let's visualise the kills of the jungle monsters. "
   ]
  },
  {
   "cell_type": "code",
   "execution_count": 43,
   "metadata": {},
   "outputs": [
    {
     "data": {
      "text/plain": [
       "blueTotalJungleMinionsKilled\n",
       "4     1\n",
       "16    1\n",
       "21    2\n",
       "23    2\n",
       "24    7\n",
       "     ..\n",
       "83    3\n",
       "84    2\n",
       "85    2\n",
       "88    1\n",
       "92    1\n",
       "Length: 68, dtype: int64"
      ]
     },
     "execution_count": 43,
     "metadata": {},
     "output_type": "execute_result"
    }
   ],
   "source": [
    "blue_jungle_minion_kills = blue_wins_data.groupby(blue_wins_data.blueTotalJungleMinionsKilled).size()\n",
    "blue_jungle_minion_kills"
   ]
  },
  {
   "cell_type": "code",
   "execution_count": 44,
   "metadata": {},
   "outputs": [
    {
     "data": {
      "image/png": "[encoded data removed]",
      "text/plain": [
       "<Figure size 432x288 with 1 Axes>"
      ]
     },
     "metadata": {
      "needs_background": "light"
     },
     "output_type": "display_data"
    }
   ],
   "source": [
    "ploting_grouped_elements(blue_jungle_minion_kills, \"Number of jungle minions killed\", \"Number of won games\")"
   ]
  },
  {
   "cell_type": "code",
   "execution_count": 45,
   "metadata": {},
   "outputs": [
    {
     "data": {
      "text/plain": [
       "redTotalJungleMinionsKilled\n",
       "17    1\n",
       "22    1\n",
       "23    1\n",
       "24    5\n",
       "26    4\n",
       "     ..\n",
       "83    2\n",
       "84    9\n",
       "88    3\n",
       "89    1\n",
       "92    3\n",
       "Length: 66, dtype: int64"
      ]
     },
     "execution_count": 45,
     "metadata": {},
     "output_type": "execute_result"
    }
   ],
   "source": [
    "red_jungle_minion_kills = red_wins_data.groupby(red_wins_data.redTotalJungleMinionsKilled).size()\n",
    "red_jungle_minion_kills"
   ]
  },
  {
   "cell_type": "code",
   "execution_count": 46,
   "metadata": {},
   "outputs": [
    {
     "data": {
      "image/png": "[encoded data removed]",
      "text/plain": [
       "<Figure size 432x288 with 1 Axes>"
      ]
     },
     "metadata": {
      "needs_background": "light"
     },
     "output_type": "display_data"
    }
   ],
   "source": [
    "ploting_grouped_elements(red_jungle_minion_kills, \"Number of jungle minions killed\", \"Number of won games\")"
   ]
  },
  {
   "cell_type": "markdown",
   "metadata": {},
   "source": [
    "The interesting thing about these plots are the peaks, which apear in repeatable model. We observe this on both teams.\n",
    "\n",
    "Let's take a closer look."
   ]
  },
  {
   "cell_type": "code",
   "execution_count": 47,
   "metadata": {},
   "outputs": [],
   "source": [
    "bjmk_part_1 = blue_jungle_minion_kills[(blue_jungle_minion_kills.index >= 40) & (blue_jungle_minion_kills.index <= 60)]"
   ]
  },
  {
   "cell_type": "code",
   "execution_count": 48,
   "metadata": {},
   "outputs": [
    {
     "data": {
      "image/png": "[encoded data removed]",
      "text/plain": [
       "<Figure size 432x288 with 1 Axes>"
      ]
     },
     "metadata": {
      "needs_background": "light"
     },
     "output_type": "display_data"
    }
   ],
   "source": [
    "ploting_grouped_elements(bjmk_part_1, \"Number of jungle minions killed\", \"Number of won games\")"
   ]
  },
  {
   "cell_type": "markdown",
   "metadata": {},
   "source": [
    "It seems that the peaks are repeating on every even number multiple of four. Why is that?\n",
    "\n",
    "For now we can't say. Let's continue the visualisations with the average KDA ratio which we calculated earlier."
   ]
  },
  {
   "cell_type": "markdown",
   "metadata": {},
   "source": [
    "#### Champion kills\n",
    "\n",
    "Here we will show the kills, deaths and assists of the blue team."
   ]
  },
  {
   "cell_type": "code",
   "execution_count": 49,
   "metadata": {},
   "outputs": [
    {
     "data": {
      "text/plain": [
       "blueKills\n",
       "0       9\n",
       "1      60\n",
       "2     149\n",
       "3     255\n",
       "4     483\n",
       "5     550\n",
       "6     675\n",
       "7     633\n",
       "8     565\n",
       "9     493\n",
       "10    373\n",
       "11    254\n",
       "12    164\n",
       "13    132\n",
       "14     54\n",
       "15     32\n",
       "16     29\n",
       "17     13\n",
       "18      4\n",
       "19      2\n",
       "22      1\n",
       "dtype: int64"
      ]
     },
     "execution_count": 49,
     "metadata": {},
     "output_type": "execute_result"
    }
   ],
   "source": [
    "blue_kills = blue_wins_data.groupby(blue_wins_data.blueKills).size()\n",
    "blue_kills"
   ]
  },
  {
   "cell_type": "code",
   "execution_count": 50,
   "metadata": {},
   "outputs": [
    {
     "data": {
      "text/plain": [
       "redDeaths\n",
       "0       9\n",
       "1      60\n",
       "2     149\n",
       "3     255\n",
       "4     483\n",
       "5     550\n",
       "6     675\n",
       "7     633\n",
       "8     565\n",
       "9     493\n",
       "10    373\n",
       "11    254\n",
       "12    164\n",
       "13    132\n",
       "14     54\n",
       "15     32\n",
       "16     29\n",
       "17     13\n",
       "18      4\n",
       "19      2\n",
       "22      1\n",
       "dtype: int64"
      ]
     },
     "execution_count": 50,
     "metadata": {},
     "output_type": "execute_result"
    }
   ],
   "source": [
    "blue_deaths = blue_wins_data.groupby(blue_wins_data.redDeaths).size()\n",
    "blue_deaths"
   ]
  },
  {
   "cell_type": "code",
   "execution_count": 51,
   "metadata": {},
   "outputs": [
    {
     "data": {
      "image/png": "[encoded data removed]",
      "text/plain": [
       "<Figure size 432x288 with 1 Axes>"
      ]
     },
     "metadata": {
      "needs_background": "light"
     },
     "output_type": "display_data"
    }
   ],
   "source": [
    "ploting_grouped_elements(blue_kills, \"Number of kills\", \"Number of won games\")"
   ]
  },
  {
   "cell_type": "code",
   "execution_count": 52,
   "metadata": {},
   "outputs": [
    {
     "data": {
      "image/png": "[encoded data removed]",
      "text/plain": [
       "<Figure size 432x288 with 1 Axes>"
      ]
     },
     "metadata": {
      "needs_background": "light"
     },
     "output_type": "display_data"
    }
   ],
   "source": [
    "ploting_grouped_elements(blue_deaths, \"Number of deaths\", \"Number of won games\")"
   ]
  },
  {
   "cell_type": "code",
   "execution_count": 53,
   "metadata": {},
   "outputs": [
    {
     "data": {
      "text/plain": [
       "redAssists\n",
       "0     194\n",
       "1     352\n",
       "2     480\n",
       "3     571\n",
       "4     575\n",
       "5     566\n",
       "6     482\n",
       "7     417\n",
       "8     329\n",
       "9     283\n",
       "10    208\n",
       "11    152\n",
       "12     95\n",
       "13     71\n",
       "14     53\n",
       "15     37\n",
       "16     27\n",
       "17     11\n",
       "18      8\n",
       "19      8\n",
       "20      6\n",
       "22      2\n",
       "23      1\n",
       "24      1\n",
       "25      1\n",
       "dtype: int64"
      ]
     },
     "execution_count": 53,
     "metadata": {},
     "output_type": "execute_result"
    }
   ],
   "source": [
    "blue_assists = blue_wins_data.groupby(blue_wins_data.redAssists).size()\n",
    "blue_assists"
   ]
  },
  {
   "cell_type": "code",
   "execution_count": 54,
   "metadata": {},
   "outputs": [
    {
     "data": {
      "image/png": "[encoded data removed]",
      "text/plain": [
       "<Figure size 432x288 with 1 Axes>"
      ]
     },
     "metadata": {
      "needs_background": "light"
     },
     "output_type": "display_data"
    }
   ],
   "source": [
    "ploting_grouped_elements(blue_assists, \"Number of assists\", \"Number of won games\")"
   ]
  },
  {
   "cell_type": "markdown",
   "metadata": {},
   "source": [
    "These results do not surprise us. As I mentioned earlier we expect the kills in a game to be equal to the deaths. Respectively their plots should be similar."
   ]
  },
  {
   "cell_type": "markdown",
   "metadata": {},
   "source": [
    "#### Gold difference and levels\n",
    "\n",
    "This is the last category we are going to inspect. It is about how the gold difference and the average level of the team until the tenth minute is related to the win rate."
   ]
  },
  {
   "cell_type": "code",
   "execution_count": 55,
   "metadata": {},
   "outputs": [
    {
     "data": {
      "text/plain": [
       "blueGoldDiff\n",
       "-6324     1\n",
       "-5976     1\n",
       "-5057     1\n",
       "-4949     1\n",
       "-4907     1\n",
       "         ..\n",
       " 8667     1\n",
       " 8776     1\n",
       " 8863     1\n",
       " 8977     1\n",
       " 11467    1\n",
       "Length: 3651, dtype: int64"
      ]
     },
     "execution_count": 55,
     "metadata": {},
     "output_type": "execute_result"
    }
   ],
   "source": [
    "blue_gold_diff = blue_wins_data.groupby(blue_wins_data.blueGoldDiff).size()\n",
    "blue_gold_diff"
   ]
  },
  {
   "cell_type": "code",
   "execution_count": 56,
   "metadata": {},
   "outputs": [
    {
     "data": {
      "image/png": "[encoded data removed]",
      "text/plain": [
       "<Figure size 432x288 with 1 Axes>"
      ]
     },
     "metadata": {
      "needs_background": "light"
     },
     "output_type": "display_data"
    }
   ],
   "source": [
    "ploting_grouped_elements(blue_gold_diff, \"Gold diffrence\", \"Number of won games\", \"hist\")"
   ]
  },
  {
   "cell_type": "markdown",
   "metadata": {},
   "source": [
    "The negative values mean games that the blue team have \"played from behind\" with lack of gold around the tenth minute, but still won. The positive values, respectively, mean that these are games, which the blue team has won by having more gold than the enemy team by the tenth minute. \n",
    "\n",
    "The thing we see in the plot is that the histogram is slightly moved to the right. This is because we expect blue team to win much more games by playing with gold advantage rather than with disadvantage. "
   ]
  },
  {
   "cell_type": "markdown",
   "metadata": {},
   "source": [
    "Let's take a quick look at the average levels of the teams."
   ]
  },
  {
   "cell_type": "code",
   "execution_count": 57,
   "metadata": {},
   "outputs": [
    {
     "data": {
      "text/plain": [
       "blueAvgLevel\n",
       "6.0       3\n",
       "6.2      23\n",
       "6.4     108\n",
       "6.6     370\n",
       "6.8    1064\n",
       "7.0    1441\n",
       "7.2    1192\n",
       "7.4     548\n",
       "7.6     152\n",
       "7.8      28\n",
       "8.0       1\n",
       "dtype: int64"
      ]
     },
     "execution_count": 57,
     "metadata": {},
     "output_type": "execute_result"
    }
   ],
   "source": [
    "blue_avg_level = blue_wins_data.groupby(blue_wins_data.blueAvgLevel).size()\n",
    "blue_avg_level"
   ]
  },
  {
   "cell_type": "code",
   "execution_count": 58,
   "metadata": {},
   "outputs": [
    {
     "data": {
      "image/png": "[encoded data removed]",
      "text/plain": [
       "<Figure size 432x288 with 1 Axes>"
      ]
     },
     "metadata": {
      "needs_background": "light"
     },
     "output_type": "display_data"
    }
   ],
   "source": [
    "ploting_grouped_elements(blue_avg_level, \"Average level of the team\", \"Number of won games\")"
   ]
  },
  {
   "cell_type": "code",
   "execution_count": 59,
   "metadata": {},
   "outputs": [
    {
     "data": {
      "text/plain": [
       "redAvgLevel\n",
       "6.0       7\n",
       "6.2      20\n",
       "6.4     104\n",
       "6.6     382\n",
       "6.8     977\n",
       "7.0    1449\n",
       "7.2    1256\n",
       "7.4     567\n",
       "7.6     168\n",
       "7.8      15\n",
       "8.0       3\n",
       "8.2       1\n",
       "dtype: int64"
      ]
     },
     "execution_count": 59,
     "metadata": {},
     "output_type": "execute_result"
    }
   ],
   "source": [
    "red_avg_level = red_wins_data.groupby(red_wins_data.redAvgLevel).size()\n",
    "red_avg_level"
   ]
  },
  {
   "cell_type": "code",
   "execution_count": 60,
   "metadata": {},
   "outputs": [
    {
     "data": {
      "image/png": "[encoded data removed]",
      "text/plain": [
       "<Figure size 432x288 with 1 Axes>"
      ]
     },
     "metadata": {
      "needs_background": "light"
     },
     "output_type": "display_data"
    }
   ],
   "source": [
    "ploting_grouped_elements(red_avg_level, \"Average level of the team\", \"Number of won games\")"
   ]
  },
  {
   "cell_type": "markdown",
   "metadata": {},
   "source": [
    "As we see in both plots at the tenth minute the average level of the team was around 7."
   ]
  },
  {
   "cell_type": "markdown",
   "metadata": {},
   "source": [
    "### Creating a model"
   ]
  },
  {
   "cell_type": "markdown",
   "metadata": {},
   "source": [
    "Now, let's try to create a model and try to predict the result of a game given all this parameters from the first 10 minutes of the game.\n",
    "\n",
    "For this model we will use the logistic regression given by the **sklearn** library in Python. We will split the dataset in two parts - training set and prediction set. The first we will use to train our model to make predictions and with the second one we will test it."
   ]
  },
  {
   "cell_type": "code",
   "execution_count": 61,
   "metadata": {},
   "outputs": [],
   "source": [
    "lr_model = LogisticRegression()"
   ]
  },
  {
   "cell_type": "code",
   "execution_count": 62,
   "metadata": {},
   "outputs": [],
   "source": [
    "target_game10m_data = game_10m_data[\"blueWins\"]\n",
    "features_game10m_data = game_10m_data.drop([\"blueWins\"], axis = 1)"
   ]
  },
  {
   "cell_type": "code",
   "execution_count": 63,
   "metadata": {},
   "outputs": [],
   "source": [
    "x_train, x_test, y_train, y_test = train_test_split(features_game10m_data, target_game10m_data, test_size = 0.2, random_state = 10)"
   ]
  },
  {
   "cell_type": "code",
   "execution_count": 64,
   "metadata": {},
   "outputs": [
    {
     "data": {
      "text/plain": [
       "LogisticRegression(C=1.0, class_weight=None, dual=False, fit_intercept=True,\n",
       "                   intercept_scaling=1, l1_ratio=None, max_iter=100,\n",
       "                   multi_class='auto', n_jobs=None, penalty='l2',\n",
       "                   random_state=None, solver='lbfgs', tol=0.0001, verbose=0,\n",
       "                   warm_start=False)"
      ]
     },
     "execution_count": 64,
     "metadata": {},
     "output_type": "execute_result"
    }
   ],
   "source": [
    "lr_model.fit(x_train, y_train)"
   ]
  },
  {
   "cell_type": "code",
   "execution_count": 65,
   "metadata": {},
   "outputs": [
    {
     "name": "stdout",
     "output_type": "stream",
     "text": [
      "0.7064777327935222\n"
     ]
    }
   ],
   "source": [
    "lr_result = lr_model.predict(x_test)\n",
    "print(accuracy_score(lr_result, y_test))"
   ]
  },
  {
   "cell_type": "markdown",
   "metadata": {},
   "source": [
    "We got 70,65% accuracy without doing much with the data. This result is expected, because, as I mentioned earlier, the average length of a game in this ELO is around 26 minutes, so the first 10 minutes might not be the most important. I wonder what will happen if we split the data in two sets, with features only for one of the teams each and explore the blue team data."
   ]
  },
  {
   "cell_type": "code",
   "execution_count": 66,
   "metadata": {},
   "outputs": [],
   "source": [
    "blue_features = []\n",
    "for col in list(game_10m_data):\n",
    "    if(col[0] == \"b\"):\n",
    "        blue_features.append(col)"
   ]
  },
  {
   "cell_type": "code",
   "execution_count": 67,
   "metadata": {},
   "outputs": [],
   "source": [
    "blue_features_game10m_data = game_10m_data[blue_features]"
   ]
  },
  {
   "cell_type": "code",
   "execution_count": 68,
   "metadata": {},
   "outputs": [
    {
     "data": {
      "text/html": [
       "<div>\n",
       "<style scoped>\n",
       "    .dataframe tbody tr th:only-of-type {\n",
       "        vertical-align: middle;\n",
       "    }\n",
       "\n",
       "    .dataframe tbody tr th {\n",
       "        vertical-align: top;\n",
       "    }\n",
       "\n",
       "    .dataframe thead th {\n",
       "        text-align: right;\n",
       "    }\n",
       "</style>\n",
       "<table border=\"1\" class=\"dataframe\">\n",
       "  <thead>\n",
       "    <tr style=\"text-align: right;\">\n",
       "      <th></th>\n",
       "      <th>blueWins</th>\n",
       "      <th>blueWardsPlaced</th>\n",
       "      <th>blueWardsDestroyed</th>\n",
       "      <th>blueFirstBlood</th>\n",
       "      <th>blueKills</th>\n",
       "      <th>blueDeaths</th>\n",
       "      <th>blueAssists</th>\n",
       "      <th>blueEliteMonsters</th>\n",
       "      <th>blueDragons</th>\n",
       "      <th>blueHeralds</th>\n",
       "      <th>blueTowersDestroyed</th>\n",
       "      <th>blueTotalGold</th>\n",
       "      <th>blueAvgLevel</th>\n",
       "      <th>blueTotalExperience</th>\n",
       "      <th>blueTotalMinionsKilled</th>\n",
       "      <th>blueTotalJungleMinionsKilled</th>\n",
       "      <th>blueGoldDiff</th>\n",
       "      <th>blueExperienceDiff</th>\n",
       "      <th>blueCSPerMin</th>\n",
       "      <th>blueGoldPerMin</th>\n",
       "    </tr>\n",
       "    <tr>\n",
       "      <th>gameId</th>\n",
       "      <th></th>\n",
       "      <th></th>\n",
       "      <th></th>\n",
       "      <th></th>\n",
       "      <th></th>\n",
       "      <th></th>\n",
       "      <th></th>\n",
       "      <th></th>\n",
       "      <th></th>\n",
       "      <th></th>\n",
       "      <th></th>\n",
       "      <th></th>\n",
       "      <th></th>\n",
       "      <th></th>\n",
       "      <th></th>\n",
       "      <th></th>\n",
       "      <th></th>\n",
       "      <th></th>\n",
       "      <th></th>\n",
       "      <th></th>\n",
       "    </tr>\n",
       "  </thead>\n",
       "  <tbody>\n",
       "    <tr>\n",
       "      <th>4519157822</th>\n",
       "      <td>0</td>\n",
       "      <td>28</td>\n",
       "      <td>2</td>\n",
       "      <td>1</td>\n",
       "      <td>9</td>\n",
       "      <td>6</td>\n",
       "      <td>11</td>\n",
       "      <td>0</td>\n",
       "      <td>0</td>\n",
       "      <td>0</td>\n",
       "      <td>0</td>\n",
       "      <td>17210</td>\n",
       "      <td>6.6</td>\n",
       "      <td>17039</td>\n",
       "      <td>195</td>\n",
       "      <td>36</td>\n",
       "      <td>643</td>\n",
       "      <td>-8</td>\n",
       "      <td>19.5</td>\n",
       "      <td>1721.0</td>\n",
       "    </tr>\n",
       "    <tr>\n",
       "      <th>4523371949</th>\n",
       "      <td>0</td>\n",
       "      <td>12</td>\n",
       "      <td>1</td>\n",
       "      <td>0</td>\n",
       "      <td>5</td>\n",
       "      <td>5</td>\n",
       "      <td>5</td>\n",
       "      <td>0</td>\n",
       "      <td>0</td>\n",
       "      <td>0</td>\n",
       "      <td>0</td>\n",
       "      <td>14712</td>\n",
       "      <td>6.6</td>\n",
       "      <td>16265</td>\n",
       "      <td>174</td>\n",
       "      <td>43</td>\n",
       "      <td>-2908</td>\n",
       "      <td>-1173</td>\n",
       "      <td>17.4</td>\n",
       "      <td>1471.2</td>\n",
       "    </tr>\n",
       "    <tr>\n",
       "      <th>4521474530</th>\n",
       "      <td>0</td>\n",
       "      <td>15</td>\n",
       "      <td>0</td>\n",
       "      <td>0</td>\n",
       "      <td>7</td>\n",
       "      <td>11</td>\n",
       "      <td>4</td>\n",
       "      <td>1</td>\n",
       "      <td>1</td>\n",
       "      <td>0</td>\n",
       "      <td>0</td>\n",
       "      <td>16113</td>\n",
       "      <td>6.4</td>\n",
       "      <td>16221</td>\n",
       "      <td>186</td>\n",
       "      <td>46</td>\n",
       "      <td>-1172</td>\n",
       "      <td>-1033</td>\n",
       "      <td>18.6</td>\n",
       "      <td>1611.3</td>\n",
       "    </tr>\n",
       "    <tr>\n",
       "      <th>4524384067</th>\n",
       "      <td>0</td>\n",
       "      <td>43</td>\n",
       "      <td>1</td>\n",
       "      <td>0</td>\n",
       "      <td>4</td>\n",
       "      <td>5</td>\n",
       "      <td>5</td>\n",
       "      <td>1</td>\n",
       "      <td>0</td>\n",
       "      <td>1</td>\n",
       "      <td>0</td>\n",
       "      <td>15157</td>\n",
       "      <td>7.0</td>\n",
       "      <td>17954</td>\n",
       "      <td>201</td>\n",
       "      <td>55</td>\n",
       "      <td>-1321</td>\n",
       "      <td>-7</td>\n",
       "      <td>20.1</td>\n",
       "      <td>1515.7</td>\n",
       "    </tr>\n",
       "    <tr>\n",
       "      <th>4436033771</th>\n",
       "      <td>0</td>\n",
       "      <td>75</td>\n",
       "      <td>4</td>\n",
       "      <td>0</td>\n",
       "      <td>6</td>\n",
       "      <td>6</td>\n",
       "      <td>6</td>\n",
       "      <td>0</td>\n",
       "      <td>0</td>\n",
       "      <td>0</td>\n",
       "      <td>0</td>\n",
       "      <td>16400</td>\n",
       "      <td>7.0</td>\n",
       "      <td>18543</td>\n",
       "      <td>210</td>\n",
       "      <td>57</td>\n",
       "      <td>-1004</td>\n",
       "      <td>230</td>\n",
       "      <td>21.0</td>\n",
       "      <td>1640.0</td>\n",
       "    </tr>\n",
       "  </tbody>\n",
       "</table>\n",
       "</div>"
      ],
      "text/plain": [
       "            blueWins  blueWardsPlaced  blueWardsDestroyed  blueFirstBlood  \\\n",
       "gameId                                                                      \n",
       "4519157822         0               28                   2               1   \n",
       "4523371949         0               12                   1               0   \n",
       "4521474530         0               15                   0               0   \n",
       "4524384067         0               43                   1               0   \n",
       "4436033771         0               75                   4               0   \n",
       "\n",
       "            blueKills  blueDeaths  blueAssists  blueEliteMonsters  \\\n",
       "gameId                                                              \n",
       "4519157822          9           6           11                  0   \n",
       "4523371949          5           5            5                  0   \n",
       "4521474530          7          11            4                  1   \n",
       "4524384067          4           5            5                  1   \n",
       "4436033771          6           6            6                  0   \n",
       "\n",
       "            blueDragons  blueHeralds  blueTowersDestroyed  blueTotalGold  \\\n",
       "gameId                                                                     \n",
       "4519157822            0            0                    0          17210   \n",
       "4523371949            0            0                    0          14712   \n",
       "4521474530            1            0                    0          16113   \n",
       "4524384067            0            1                    0          15157   \n",
       "4436033771            0            0                    0          16400   \n",
       "\n",
       "            blueAvgLevel  blueTotalExperience  blueTotalMinionsKilled  \\\n",
       "gameId                                                                  \n",
       "4519157822           6.6                17039                     195   \n",
       "4523371949           6.6                16265                     174   \n",
       "4521474530           6.4                16221                     186   \n",
       "4524384067           7.0                17954                     201   \n",
       "4436033771           7.0                18543                     210   \n",
       "\n",
       "            blueTotalJungleMinionsKilled  blueGoldDiff  blueExperienceDiff  \\\n",
       "gameId                                                                       \n",
       "4519157822                            36           643                  -8   \n",
       "4523371949                            43         -2908               -1173   \n",
       "4521474530                            46         -1172               -1033   \n",
       "4524384067                            55         -1321                  -7   \n",
       "4436033771                            57         -1004                 230   \n",
       "\n",
       "            blueCSPerMin  blueGoldPerMin  \n",
       "gameId                                    \n",
       "4519157822          19.5          1721.0  \n",
       "4523371949          17.4          1471.2  \n",
       "4521474530          18.6          1611.3  \n",
       "4524384067          20.1          1515.7  \n",
       "4436033771          21.0          1640.0  "
      ]
     },
     "execution_count": 68,
     "metadata": {},
     "output_type": "execute_result"
    }
   ],
   "source": [
    "blue_features_game10m_data.head()"
   ]
  },
  {
   "cell_type": "code",
   "execution_count": 69,
   "metadata": {},
   "outputs": [],
   "source": [
    "blue_features_game10m_data = blue_features_game10m_data.drop([\"blueWins\"], axis = 1)"
   ]
  },
  {
   "cell_type": "code",
   "execution_count": 70,
   "metadata": {},
   "outputs": [],
   "source": [
    "x_train, x_test, y_train, y_test = train_test_split(blue_features_game10m_data, target_game10m_data, test_size = 0.2, random_state = 10)"
   ]
  },
  {
   "cell_type": "code",
   "execution_count": 71,
   "metadata": {},
   "outputs": [
    {
     "data": {
      "text/plain": [
       "LogisticRegression(C=1.0, class_weight=None, dual=False, fit_intercept=True,\n",
       "                   intercept_scaling=1, l1_ratio=None, max_iter=100,\n",
       "                   multi_class='auto', n_jobs=None, penalty='l2',\n",
       "                   random_state=None, solver='lbfgs', tol=0.0001, verbose=0,\n",
       "                   warm_start=False)"
      ]
     },
     "execution_count": 71,
     "metadata": {},
     "output_type": "execute_result"
    }
   ],
   "source": [
    "lr_model.fit(x_train, y_train)"
   ]
  },
  {
   "cell_type": "code",
   "execution_count": 72,
   "metadata": {},
   "outputs": [
    {
     "name": "stdout",
     "output_type": "stream",
     "text": [
      "0.7059716599190283\n"
     ]
    }
   ],
   "source": [
    "lr_result = lr_model.predict(x_test)\n",
    "print(accuracy_score(lr_result, y_test))"
   ]
  },
  {
   "cell_type": "markdown",
   "metadata": {},
   "source": [
    "Well, so it looks like it doesn't matter if we use the features for both teams or for one of them.\n",
    "\n",
    "Now let's try something different. Let's load the other dataset with data the same kind of data, but except that it is for the first 15 minutes of the game. Let's train our model with the data from the first dataset and try to predict the second. This way we can see if the next 5 minutes change the factors that impact the result of the game the most."
   ]
  },
  {
   "cell_type": "code",
   "execution_count": 73,
   "metadata": {},
   "outputs": [],
   "source": [
    "game_15m_data = pd.read_csv(\"data\\diamond4_diamond1_15min\\MatchTimelinesFirst15.csv\")"
   ]
  },
  {
   "cell_type": "code",
   "execution_count": 74,
   "metadata": {},
   "outputs": [
    {
     "data": {
      "text/html": [
       "<div>\n",
       "<style scoped>\n",
       "    .dataframe tbody tr th:only-of-type {\n",
       "        vertical-align: middle;\n",
       "    }\n",
       "\n",
       "    .dataframe tbody tr th {\n",
       "        vertical-align: top;\n",
       "    }\n",
       "\n",
       "    .dataframe thead th {\n",
       "        text-align: right;\n",
       "    }\n",
       "</style>\n",
       "<table border=\"1\" class=\"dataframe\">\n",
       "  <thead>\n",
       "    <tr style=\"text-align: right;\">\n",
       "      <th></th>\n",
       "      <th>Unnamed: 0</th>\n",
       "      <th>matchId</th>\n",
       "      <th>blue_win</th>\n",
       "      <th>blueGold</th>\n",
       "      <th>blueMinionsKilled</th>\n",
       "      <th>blueJungleMinionsKilled</th>\n",
       "      <th>blueAvgLevel</th>\n",
       "      <th>redGold</th>\n",
       "      <th>redMinionsKilled</th>\n",
       "      <th>redJungleMinionsKilled</th>\n",
       "      <th>redAvgLevel</th>\n",
       "      <th>blueChampKills</th>\n",
       "      <th>blueHeraldKills</th>\n",
       "      <th>blueDragonKills</th>\n",
       "      <th>blueTowersDestroyed</th>\n",
       "      <th>redChampKills</th>\n",
       "      <th>redHeraldKills</th>\n",
       "      <th>redDragonKills</th>\n",
       "      <th>redTowersDestroyed</th>\n",
       "    </tr>\n",
       "  </thead>\n",
       "  <tbody>\n",
       "    <tr>\n",
       "      <th>0</th>\n",
       "      <td>0</td>\n",
       "      <td>3.493251e+09</td>\n",
       "      <td>0</td>\n",
       "      <td>24575.0</td>\n",
       "      <td>349.0</td>\n",
       "      <td>89.0</td>\n",
       "      <td>8.6</td>\n",
       "      <td>25856.0</td>\n",
       "      <td>346.0</td>\n",
       "      <td>80.0</td>\n",
       "      <td>9.2</td>\n",
       "      <td>6.0</td>\n",
       "      <td>1.0</td>\n",
       "      <td>0.0</td>\n",
       "      <td>1.0</td>\n",
       "      <td>12.0</td>\n",
       "      <td>2.0</td>\n",
       "      <td>0.0</td>\n",
       "      <td>1.0</td>\n",
       "    </tr>\n",
       "    <tr>\n",
       "      <th>1</th>\n",
       "      <td>1</td>\n",
       "      <td>3.464936e+09</td>\n",
       "      <td>0</td>\n",
       "      <td>27210.0</td>\n",
       "      <td>290.0</td>\n",
       "      <td>36.0</td>\n",
       "      <td>9.0</td>\n",
       "      <td>28765.0</td>\n",
       "      <td>294.0</td>\n",
       "      <td>92.0</td>\n",
       "      <td>9.4</td>\n",
       "      <td>20.0</td>\n",
       "      <td>0.0</td>\n",
       "      <td>0.0</td>\n",
       "      <td>0.0</td>\n",
       "      <td>19.0</td>\n",
       "      <td>2.0</td>\n",
       "      <td>0.0</td>\n",
       "      <td>0.0</td>\n",
       "    </tr>\n",
       "    <tr>\n",
       "      <th>2</th>\n",
       "      <td>2</td>\n",
       "      <td>3.428426e+09</td>\n",
       "      <td>1</td>\n",
       "      <td>32048.0</td>\n",
       "      <td>346.0</td>\n",
       "      <td>92.0</td>\n",
       "      <td>9.4</td>\n",
       "      <td>25305.0</td>\n",
       "      <td>293.0</td>\n",
       "      <td>84.0</td>\n",
       "      <td>9.4</td>\n",
       "      <td>17.0</td>\n",
       "      <td>3.0</td>\n",
       "      <td>0.0</td>\n",
       "      <td>0.0</td>\n",
       "      <td>11.0</td>\n",
       "      <td>0.0</td>\n",
       "      <td>0.0</td>\n",
       "      <td>4.0</td>\n",
       "    </tr>\n",
       "    <tr>\n",
       "      <th>3</th>\n",
       "      <td>3</td>\n",
       "      <td>3.428347e+09</td>\n",
       "      <td>0</td>\n",
       "      <td>20261.0</td>\n",
       "      <td>223.0</td>\n",
       "      <td>60.0</td>\n",
       "      <td>8.2</td>\n",
       "      <td>30429.0</td>\n",
       "      <td>356.0</td>\n",
       "      <td>107.0</td>\n",
       "      <td>9.4</td>\n",
       "      <td>7.0</td>\n",
       "      <td>0.0</td>\n",
       "      <td>0.0</td>\n",
       "      <td>3.0</td>\n",
       "      <td>16.0</td>\n",
       "      <td>3.0</td>\n",
       "      <td>0.0</td>\n",
       "      <td>0.0</td>\n",
       "    </tr>\n",
       "    <tr>\n",
       "      <th>4</th>\n",
       "      <td>4</td>\n",
       "      <td>3.428351e+09</td>\n",
       "      <td>1</td>\n",
       "      <td>30217.0</td>\n",
       "      <td>376.0</td>\n",
       "      <td>110.0</td>\n",
       "      <td>9.8</td>\n",
       "      <td>23889.0</td>\n",
       "      <td>334.0</td>\n",
       "      <td>60.0</td>\n",
       "      <td>8.8</td>\n",
       "      <td>16.0</td>\n",
       "      <td>3.0</td>\n",
       "      <td>0.0</td>\n",
       "      <td>0.0</td>\n",
       "      <td>8.0</td>\n",
       "      <td>0.0</td>\n",
       "      <td>0.0</td>\n",
       "      <td>2.0</td>\n",
       "    </tr>\n",
       "    <tr>\n",
       "      <th>...</th>\n",
       "      <td>...</td>\n",
       "      <td>...</td>\n",
       "      <td>...</td>\n",
       "      <td>...</td>\n",
       "      <td>...</td>\n",
       "      <td>...</td>\n",
       "      <td>...</td>\n",
       "      <td>...</td>\n",
       "      <td>...</td>\n",
       "      <td>...</td>\n",
       "      <td>...</td>\n",
       "      <td>...</td>\n",
       "      <td>...</td>\n",
       "      <td>...</td>\n",
       "      <td>...</td>\n",
       "      <td>...</td>\n",
       "      <td>...</td>\n",
       "      <td>...</td>\n",
       "      <td>...</td>\n",
       "    </tr>\n",
       "    <tr>\n",
       "      <th>48646</th>\n",
       "      <td>48646</td>\n",
       "      <td>3.475682e+09</td>\n",
       "      <td>0</td>\n",
       "      <td>27013.0</td>\n",
       "      <td>338.0</td>\n",
       "      <td>61.0</td>\n",
       "      <td>9.0</td>\n",
       "      <td>31853.0</td>\n",
       "      <td>331.0</td>\n",
       "      <td>77.0</td>\n",
       "      <td>9.6</td>\n",
       "      <td>14.0</td>\n",
       "      <td>2.0</td>\n",
       "      <td>0.0</td>\n",
       "      <td>2.0</td>\n",
       "      <td>21.0</td>\n",
       "      <td>0.0</td>\n",
       "      <td>0.0</td>\n",
       "      <td>0.0</td>\n",
       "    </tr>\n",
       "    <tr>\n",
       "      <th>48647</th>\n",
       "      <td>48647</td>\n",
       "      <td>3.500988e+09</td>\n",
       "      <td>1</td>\n",
       "      <td>25376.0</td>\n",
       "      <td>350.0</td>\n",
       "      <td>91.0</td>\n",
       "      <td>9.0</td>\n",
       "      <td>23786.0</td>\n",
       "      <td>354.0</td>\n",
       "      <td>87.0</td>\n",
       "      <td>9.4</td>\n",
       "      <td>7.0</td>\n",
       "      <td>2.0</td>\n",
       "      <td>0.0</td>\n",
       "      <td>0.0</td>\n",
       "      <td>5.0</td>\n",
       "      <td>1.0</td>\n",
       "      <td>0.0</td>\n",
       "      <td>1.0</td>\n",
       "    </tr>\n",
       "    <tr>\n",
       "      <th>48648</th>\n",
       "      <td>48648</td>\n",
       "      <td>3.496593e+09</td>\n",
       "      <td>0</td>\n",
       "      <td>25456.0</td>\n",
       "      <td>308.0</td>\n",
       "      <td>92.0</td>\n",
       "      <td>9.0</td>\n",
       "      <td>29569.0</td>\n",
       "      <td>344.0</td>\n",
       "      <td>96.0</td>\n",
       "      <td>9.6</td>\n",
       "      <td>8.0</td>\n",
       "      <td>0.0</td>\n",
       "      <td>0.0</td>\n",
       "      <td>2.0</td>\n",
       "      <td>17.0</td>\n",
       "      <td>3.0</td>\n",
       "      <td>0.0</td>\n",
       "      <td>1.0</td>\n",
       "    </tr>\n",
       "    <tr>\n",
       "      <th>48649</th>\n",
       "      <td>48649</td>\n",
       "      <td>3.491706e+09</td>\n",
       "      <td>1</td>\n",
       "      <td>27033.0</td>\n",
       "      <td>335.0</td>\n",
       "      <td>85.0</td>\n",
       "      <td>9.4</td>\n",
       "      <td>25666.0</td>\n",
       "      <td>316.0</td>\n",
       "      <td>64.0</td>\n",
       "      <td>8.8</td>\n",
       "      <td>14.0</td>\n",
       "      <td>2.0</td>\n",
       "      <td>0.0</td>\n",
       "      <td>0.0</td>\n",
       "      <td>12.0</td>\n",
       "      <td>0.0</td>\n",
       "      <td>0.0</td>\n",
       "      <td>0.0</td>\n",
       "    </tr>\n",
       "    <tr>\n",
       "      <th>48650</th>\n",
       "      <td>48650</td>\n",
       "      <td>3.478247e+09</td>\n",
       "      <td>0</td>\n",
       "      <td>23194.0</td>\n",
       "      <td>325.0</td>\n",
       "      <td>81.0</td>\n",
       "      <td>9.0</td>\n",
       "      <td>28836.0</td>\n",
       "      <td>358.0</td>\n",
       "      <td>81.0</td>\n",
       "      <td>9.4</td>\n",
       "      <td>7.0</td>\n",
       "      <td>1.0</td>\n",
       "      <td>0.0</td>\n",
       "      <td>2.0</td>\n",
       "      <td>13.0</td>\n",
       "      <td>1.0</td>\n",
       "      <td>0.0</td>\n",
       "      <td>0.0</td>\n",
       "    </tr>\n",
       "  </tbody>\n",
       "</table>\n",
       "<p>48651 rows × 19 columns</p>\n",
       "</div>"
      ],
      "text/plain": [
       "       Unnamed: 0       matchId  blue_win  blueGold  blueMinionsKilled  \\\n",
       "0               0  3.493251e+09         0   24575.0              349.0   \n",
       "1               1  3.464936e+09         0   27210.0              290.0   \n",
       "2               2  3.428426e+09         1   32048.0              346.0   \n",
       "3               3  3.428347e+09         0   20261.0              223.0   \n",
       "4               4  3.428351e+09         1   30217.0              376.0   \n",
       "...           ...           ...       ...       ...                ...   \n",
       "48646       48646  3.475682e+09         0   27013.0              338.0   \n",
       "48647       48647  3.500988e+09         1   25376.0              350.0   \n",
       "48648       48648  3.496593e+09         0   25456.0              308.0   \n",
       "48649       48649  3.491706e+09         1   27033.0              335.0   \n",
       "48650       48650  3.478247e+09         0   23194.0              325.0   \n",
       "\n",
       "       blueJungleMinionsKilled  blueAvgLevel  redGold  redMinionsKilled  \\\n",
       "0                         89.0           8.6  25856.0             346.0   \n",
       "1                         36.0           9.0  28765.0             294.0   \n",
       "2                         92.0           9.4  25305.0             293.0   \n",
       "3                         60.0           8.2  30429.0             356.0   \n",
       "4                        110.0           9.8  23889.0             334.0   \n",
       "...                        ...           ...      ...               ...   \n",
       "48646                     61.0           9.0  31853.0             331.0   \n",
       "48647                     91.0           9.0  23786.0             354.0   \n",
       "48648                     92.0           9.0  29569.0             344.0   \n",
       "48649                     85.0           9.4  25666.0             316.0   \n",
       "48650                     81.0           9.0  28836.0             358.0   \n",
       "\n",
       "       redJungleMinionsKilled  redAvgLevel  blueChampKills  blueHeraldKills  \\\n",
       "0                        80.0          9.2             6.0              1.0   \n",
       "1                        92.0          9.4            20.0              0.0   \n",
       "2                        84.0          9.4            17.0              3.0   \n",
       "3                       107.0          9.4             7.0              0.0   \n",
       "4                        60.0          8.8            16.0              3.0   \n",
       "...                       ...          ...             ...              ...   \n",
       "48646                    77.0          9.6            14.0              2.0   \n",
       "48647                    87.0          9.4             7.0              2.0   \n",
       "48648                    96.0          9.6             8.0              0.0   \n",
       "48649                    64.0          8.8            14.0              2.0   \n",
       "48650                    81.0          9.4             7.0              1.0   \n",
       "\n",
       "       blueDragonKills  blueTowersDestroyed  redChampKills  redHeraldKills  \\\n",
       "0                  0.0                  1.0           12.0             2.0   \n",
       "1                  0.0                  0.0           19.0             2.0   \n",
       "2                  0.0                  0.0           11.0             0.0   \n",
       "3                  0.0                  3.0           16.0             3.0   \n",
       "4                  0.0                  0.0            8.0             0.0   \n",
       "...                ...                  ...            ...             ...   \n",
       "48646              0.0                  2.0           21.0             0.0   \n",
       "48647              0.0                  0.0            5.0             1.0   \n",
       "48648              0.0                  2.0           17.0             3.0   \n",
       "48649              0.0                  0.0           12.0             0.0   \n",
       "48650              0.0                  2.0           13.0             1.0   \n",
       "\n",
       "       redDragonKills  redTowersDestroyed  \n",
       "0                 0.0                 1.0  \n",
       "1                 0.0                 0.0  \n",
       "2                 0.0                 4.0  \n",
       "3                 0.0                 0.0  \n",
       "4                 0.0                 2.0  \n",
       "...               ...                 ...  \n",
       "48646             0.0                 0.0  \n",
       "48647             0.0                 1.0  \n",
       "48648             0.0                 1.0  \n",
       "48649             0.0                 0.0  \n",
       "48650             0.0                 0.0  \n",
       "\n",
       "[48651 rows x 19 columns]"
      ]
     },
     "execution_count": 74,
     "metadata": {},
     "output_type": "execute_result"
    }
   ],
   "source": [
    "game_15m_data"
   ]
  },
  {
   "cell_type": "code",
   "execution_count": 75,
   "metadata": {},
   "outputs": [
    {
     "data": {
      "text/plain": [
       "(48651, 19)"
      ]
     },
     "execution_count": 75,
     "metadata": {},
     "output_type": "execute_result"
    }
   ],
   "source": [
    "game_15m_data.shape"
   ]
  },
  {
   "cell_type": "markdown",
   "metadata": {},
   "source": [
    "The first thing that we notice is that the columns are less and their names are different we have to fix that. To make it easier we will take only the features for the blue team. We will rename them to be the same as the features from the previous set and will drop some of the features of the previous set to make them similar.\n",
    "\n",
    "The other thing is that this dataset is a lot bigger than the previous one, so we will take only part of it. Let's say 10 000 observations."
   ]
  },
  {
   "cell_type": "code",
   "execution_count": 76,
   "metadata": {},
   "outputs": [],
   "source": [
    "game_15m_data = game_15m_data.sample(10000)"
   ]
  },
  {
   "cell_type": "code",
   "execution_count": 77,
   "metadata": {},
   "outputs": [],
   "source": [
    "blue_features_15m = []\n",
    "for col in list(game_15m_data):\n",
    "    if(col[0] == \"b\"):\n",
    "        blue_features_15m.append(col)\n",
    "\n",
    "blue_features_game15m_data = game_15m_data[blue_features_15m]"
   ]
  },
  {
   "cell_type": "code",
   "execution_count": 78,
   "metadata": {},
   "outputs": [
    {
     "data": {
      "text/html": [
       "<div>\n",
       "<style scoped>\n",
       "    .dataframe tbody tr th:only-of-type {\n",
       "        vertical-align: middle;\n",
       "    }\n",
       "\n",
       "    .dataframe tbody tr th {\n",
       "        vertical-align: top;\n",
       "    }\n",
       "\n",
       "    .dataframe thead th {\n",
       "        text-align: right;\n",
       "    }\n",
       "</style>\n",
       "<table border=\"1\" class=\"dataframe\">\n",
       "  <thead>\n",
       "    <tr style=\"text-align: right;\">\n",
       "      <th></th>\n",
       "      <th>blue_win</th>\n",
       "      <th>blueGold</th>\n",
       "      <th>blueMinionsKilled</th>\n",
       "      <th>blueJungleMinionsKilled</th>\n",
       "      <th>blueAvgLevel</th>\n",
       "      <th>blueChampKills</th>\n",
       "      <th>blueHeraldKills</th>\n",
       "      <th>blueDragonKills</th>\n",
       "      <th>blueTowersDestroyed</th>\n",
       "    </tr>\n",
       "  </thead>\n",
       "  <tbody>\n",
       "    <tr>\n",
       "      <th>34693</th>\n",
       "      <td>1</td>\n",
       "      <td>24411.0</td>\n",
       "      <td>387.0</td>\n",
       "      <td>87.0</td>\n",
       "      <td>9.0</td>\n",
       "      <td>6.0</td>\n",
       "      <td>2.0</td>\n",
       "      <td>0.0</td>\n",
       "      <td>0.0</td>\n",
       "    </tr>\n",
       "    <tr>\n",
       "      <th>27733</th>\n",
       "      <td>1</td>\n",
       "      <td>27071.0</td>\n",
       "      <td>329.0</td>\n",
       "      <td>69.0</td>\n",
       "      <td>9.0</td>\n",
       "      <td>10.0</td>\n",
       "      <td>2.0</td>\n",
       "      <td>0.0</td>\n",
       "      <td>0.0</td>\n",
       "    </tr>\n",
       "    <tr>\n",
       "      <th>6331</th>\n",
       "      <td>1</td>\n",
       "      <td>22872.0</td>\n",
       "      <td>355.0</td>\n",
       "      <td>89.0</td>\n",
       "      <td>9.0</td>\n",
       "      <td>4.0</td>\n",
       "      <td>0.0</td>\n",
       "      <td>0.0</td>\n",
       "      <td>1.0</td>\n",
       "    </tr>\n",
       "    <tr>\n",
       "      <th>3066</th>\n",
       "      <td>0</td>\n",
       "      <td>23862.0</td>\n",
       "      <td>307.0</td>\n",
       "      <td>86.0</td>\n",
       "      <td>9.0</td>\n",
       "      <td>6.0</td>\n",
       "      <td>0.0</td>\n",
       "      <td>0.0</td>\n",
       "      <td>2.0</td>\n",
       "    </tr>\n",
       "    <tr>\n",
       "      <th>38781</th>\n",
       "      <td>1</td>\n",
       "      <td>25397.0</td>\n",
       "      <td>299.0</td>\n",
       "      <td>76.0</td>\n",
       "      <td>9.0</td>\n",
       "      <td>11.0</td>\n",
       "      <td>2.0</td>\n",
       "      <td>0.0</td>\n",
       "      <td>2.0</td>\n",
       "    </tr>\n",
       "    <tr>\n",
       "      <th>...</th>\n",
       "      <td>...</td>\n",
       "      <td>...</td>\n",
       "      <td>...</td>\n",
       "      <td>...</td>\n",
       "      <td>...</td>\n",
       "      <td>...</td>\n",
       "      <td>...</td>\n",
       "      <td>...</td>\n",
       "      <td>...</td>\n",
       "    </tr>\n",
       "    <tr>\n",
       "      <th>29589</th>\n",
       "      <td>0</td>\n",
       "      <td>28406.0</td>\n",
       "      <td>359.0</td>\n",
       "      <td>80.0</td>\n",
       "      <td>9.6</td>\n",
       "      <td>15.0</td>\n",
       "      <td>0.0</td>\n",
       "      <td>0.0</td>\n",
       "      <td>1.0</td>\n",
       "    </tr>\n",
       "    <tr>\n",
       "      <th>41018</th>\n",
       "      <td>0</td>\n",
       "      <td>27049.0</td>\n",
       "      <td>323.0</td>\n",
       "      <td>86.0</td>\n",
       "      <td>9.2</td>\n",
       "      <td>12.0</td>\n",
       "      <td>3.0</td>\n",
       "      <td>0.0</td>\n",
       "      <td>0.0</td>\n",
       "    </tr>\n",
       "    <tr>\n",
       "      <th>17297</th>\n",
       "      <td>1</td>\n",
       "      <td>29415.0</td>\n",
       "      <td>331.0</td>\n",
       "      <td>58.0</td>\n",
       "      <td>9.4</td>\n",
       "      <td>18.0</td>\n",
       "      <td>1.0</td>\n",
       "      <td>0.0</td>\n",
       "      <td>0.0</td>\n",
       "    </tr>\n",
       "    <tr>\n",
       "      <th>36786</th>\n",
       "      <td>1</td>\n",
       "      <td>28805.0</td>\n",
       "      <td>348.0</td>\n",
       "      <td>85.0</td>\n",
       "      <td>9.2</td>\n",
       "      <td>12.0</td>\n",
       "      <td>2.0</td>\n",
       "      <td>0.0</td>\n",
       "      <td>0.0</td>\n",
       "    </tr>\n",
       "    <tr>\n",
       "      <th>2400</th>\n",
       "      <td>1</td>\n",
       "      <td>26939.0</td>\n",
       "      <td>327.0</td>\n",
       "      <td>119.0</td>\n",
       "      <td>9.6</td>\n",
       "      <td>9.0</td>\n",
       "      <td>3.0</td>\n",
       "      <td>0.0</td>\n",
       "      <td>0.0</td>\n",
       "    </tr>\n",
       "  </tbody>\n",
       "</table>\n",
       "<p>10000 rows × 9 columns</p>\n",
       "</div>"
      ],
      "text/plain": [
       "       blue_win  blueGold  blueMinionsKilled  blueJungleMinionsKilled  \\\n",
       "34693         1   24411.0              387.0                     87.0   \n",
       "27733         1   27071.0              329.0                     69.0   \n",
       "6331          1   22872.0              355.0                     89.0   \n",
       "3066          0   23862.0              307.0                     86.0   \n",
       "38781         1   25397.0              299.0                     76.0   \n",
       "...         ...       ...                ...                      ...   \n",
       "29589         0   28406.0              359.0                     80.0   \n",
       "41018         0   27049.0              323.0                     86.0   \n",
       "17297         1   29415.0              331.0                     58.0   \n",
       "36786         1   28805.0              348.0                     85.0   \n",
       "2400          1   26939.0              327.0                    119.0   \n",
       "\n",
       "       blueAvgLevel  blueChampKills  blueHeraldKills  blueDragonKills  \\\n",
       "34693           9.0             6.0              2.0              0.0   \n",
       "27733           9.0            10.0              2.0              0.0   \n",
       "6331            9.0             4.0              0.0              0.0   \n",
       "3066            9.0             6.0              0.0              0.0   \n",
       "38781           9.0            11.0              2.0              0.0   \n",
       "...             ...             ...              ...              ...   \n",
       "29589           9.6            15.0              0.0              0.0   \n",
       "41018           9.2            12.0              3.0              0.0   \n",
       "17297           9.4            18.0              1.0              0.0   \n",
       "36786           9.2            12.0              2.0              0.0   \n",
       "2400            9.6             9.0              3.0              0.0   \n",
       "\n",
       "       blueTowersDestroyed  \n",
       "34693                  0.0  \n",
       "27733                  0.0  \n",
       "6331                   1.0  \n",
       "3066                   2.0  \n",
       "38781                  2.0  \n",
       "...                    ...  \n",
       "29589                  1.0  \n",
       "41018                  0.0  \n",
       "17297                  0.0  \n",
       "36786                  0.0  \n",
       "2400                   0.0  \n",
       "\n",
       "[10000 rows x 9 columns]"
      ]
     },
     "execution_count": 78,
     "metadata": {},
     "output_type": "execute_result"
    }
   ],
   "source": [
    "blue_features_game15m_data"
   ]
  },
  {
   "cell_type": "code",
   "execution_count": 79,
   "metadata": {},
   "outputs": [
    {
     "data": {
      "text/plain": [
       "34693    1\n",
       "27733    1\n",
       "6331     1\n",
       "3066     0\n",
       "38781    1\n",
       "Name: blue_win, dtype: int64"
      ]
     },
     "execution_count": 79,
     "metadata": {},
     "output_type": "execute_result"
    }
   ],
   "source": [
    "blue_target_game15m_data = blue_features_game15m_data[\"blue_win\"]\n",
    "blue_target_game15m_data.head()"
   ]
  },
  {
   "cell_type": "code",
   "execution_count": 80,
   "metadata": {},
   "outputs": [],
   "source": [
    "blue_features_game15m_data = blue_features_game15m_data.assign(blueKills = blue_features_game15m_data[\"blueChampKills\"], \n",
    "                                                               blueDragons = blue_features_game15m_data[\"blueDragonKills\"],\n",
    "                                                               blueHeralds = blue_features_game15m_data[\"blueHeraldKills\"], \n",
    "                                                               blueTotalGold = blue_features_game15m_data[\"blueGold\"], \n",
    "                                                               blueTotalMinionsKilled = blue_features_game15m_data[\"blueMinionsKilled\"], \n",
    "                                                               blueTotalJungleMinionsKilled = blue_features_game15m_data[\"blueJungleMinionsKilled\"])"
   ]
  },
  {
   "cell_type": "code",
   "execution_count": 81,
   "metadata": {},
   "outputs": [
    {
     "data": {
      "text/html": [
       "<div>\n",
       "<style scoped>\n",
       "    .dataframe tbody tr th:only-of-type {\n",
       "        vertical-align: middle;\n",
       "    }\n",
       "\n",
       "    .dataframe tbody tr th {\n",
       "        vertical-align: top;\n",
       "    }\n",
       "\n",
       "    .dataframe thead th {\n",
       "        text-align: right;\n",
       "    }\n",
       "</style>\n",
       "<table border=\"1\" class=\"dataframe\">\n",
       "  <thead>\n",
       "    <tr style=\"text-align: right;\">\n",
       "      <th></th>\n",
       "      <th>blueAvgLevel</th>\n",
       "      <th>blueTowersDestroyed</th>\n",
       "      <th>blueKills</th>\n",
       "      <th>blueDragons</th>\n",
       "      <th>blueHeralds</th>\n",
       "      <th>blueTotalGold</th>\n",
       "      <th>blueTotalMinionsKilled</th>\n",
       "      <th>blueTotalJungleMinionsKilled</th>\n",
       "    </tr>\n",
       "  </thead>\n",
       "  <tbody>\n",
       "    <tr>\n",
       "      <th>34693</th>\n",
       "      <td>9.0</td>\n",
       "      <td>0.0</td>\n",
       "      <td>6.0</td>\n",
       "      <td>0.0</td>\n",
       "      <td>2.0</td>\n",
       "      <td>24411.0</td>\n",
       "      <td>387.0</td>\n",
       "      <td>87.0</td>\n",
       "    </tr>\n",
       "    <tr>\n",
       "      <th>27733</th>\n",
       "      <td>9.0</td>\n",
       "      <td>0.0</td>\n",
       "      <td>10.0</td>\n",
       "      <td>0.0</td>\n",
       "      <td>2.0</td>\n",
       "      <td>27071.0</td>\n",
       "      <td>329.0</td>\n",
       "      <td>69.0</td>\n",
       "    </tr>\n",
       "    <tr>\n",
       "      <th>6331</th>\n",
       "      <td>9.0</td>\n",
       "      <td>1.0</td>\n",
       "      <td>4.0</td>\n",
       "      <td>0.0</td>\n",
       "      <td>0.0</td>\n",
       "      <td>22872.0</td>\n",
       "      <td>355.0</td>\n",
       "      <td>89.0</td>\n",
       "    </tr>\n",
       "    <tr>\n",
       "      <th>3066</th>\n",
       "      <td>9.0</td>\n",
       "      <td>2.0</td>\n",
       "      <td>6.0</td>\n",
       "      <td>0.0</td>\n",
       "      <td>0.0</td>\n",
       "      <td>23862.0</td>\n",
       "      <td>307.0</td>\n",
       "      <td>86.0</td>\n",
       "    </tr>\n",
       "    <tr>\n",
       "      <th>38781</th>\n",
       "      <td>9.0</td>\n",
       "      <td>2.0</td>\n",
       "      <td>11.0</td>\n",
       "      <td>0.0</td>\n",
       "      <td>2.0</td>\n",
       "      <td>25397.0</td>\n",
       "      <td>299.0</td>\n",
       "      <td>76.0</td>\n",
       "    </tr>\n",
       "    <tr>\n",
       "      <th>...</th>\n",
       "      <td>...</td>\n",
       "      <td>...</td>\n",
       "      <td>...</td>\n",
       "      <td>...</td>\n",
       "      <td>...</td>\n",
       "      <td>...</td>\n",
       "      <td>...</td>\n",
       "      <td>...</td>\n",
       "    </tr>\n",
       "    <tr>\n",
       "      <th>29589</th>\n",
       "      <td>9.6</td>\n",
       "      <td>1.0</td>\n",
       "      <td>15.0</td>\n",
       "      <td>0.0</td>\n",
       "      <td>0.0</td>\n",
       "      <td>28406.0</td>\n",
       "      <td>359.0</td>\n",
       "      <td>80.0</td>\n",
       "    </tr>\n",
       "    <tr>\n",
       "      <th>41018</th>\n",
       "      <td>9.2</td>\n",
       "      <td>0.0</td>\n",
       "      <td>12.0</td>\n",
       "      <td>0.0</td>\n",
       "      <td>3.0</td>\n",
       "      <td>27049.0</td>\n",
       "      <td>323.0</td>\n",
       "      <td>86.0</td>\n",
       "    </tr>\n",
       "    <tr>\n",
       "      <th>17297</th>\n",
       "      <td>9.4</td>\n",
       "      <td>0.0</td>\n",
       "      <td>18.0</td>\n",
       "      <td>0.0</td>\n",
       "      <td>1.0</td>\n",
       "      <td>29415.0</td>\n",
       "      <td>331.0</td>\n",
       "      <td>58.0</td>\n",
       "    </tr>\n",
       "    <tr>\n",
       "      <th>36786</th>\n",
       "      <td>9.2</td>\n",
       "      <td>0.0</td>\n",
       "      <td>12.0</td>\n",
       "      <td>0.0</td>\n",
       "      <td>2.0</td>\n",
       "      <td>28805.0</td>\n",
       "      <td>348.0</td>\n",
       "      <td>85.0</td>\n",
       "    </tr>\n",
       "    <tr>\n",
       "      <th>2400</th>\n",
       "      <td>9.6</td>\n",
       "      <td>0.0</td>\n",
       "      <td>9.0</td>\n",
       "      <td>0.0</td>\n",
       "      <td>3.0</td>\n",
       "      <td>26939.0</td>\n",
       "      <td>327.0</td>\n",
       "      <td>119.0</td>\n",
       "    </tr>\n",
       "  </tbody>\n",
       "</table>\n",
       "<p>10000 rows × 8 columns</p>\n",
       "</div>"
      ],
      "text/plain": [
       "       blueAvgLevel  blueTowersDestroyed  blueKills  blueDragons  blueHeralds  \\\n",
       "34693           9.0                  0.0        6.0          0.0          2.0   \n",
       "27733           9.0                  0.0       10.0          0.0          2.0   \n",
       "6331            9.0                  1.0        4.0          0.0          0.0   \n",
       "3066            9.0                  2.0        6.0          0.0          0.0   \n",
       "38781           9.0                  2.0       11.0          0.0          2.0   \n",
       "...             ...                  ...        ...          ...          ...   \n",
       "29589           9.6                  1.0       15.0          0.0          0.0   \n",
       "41018           9.2                  0.0       12.0          0.0          3.0   \n",
       "17297           9.4                  0.0       18.0          0.0          1.0   \n",
       "36786           9.2                  0.0       12.0          0.0          2.0   \n",
       "2400            9.6                  0.0        9.0          0.0          3.0   \n",
       "\n",
       "       blueTotalGold  blueTotalMinionsKilled  blueTotalJungleMinionsKilled  \n",
       "34693        24411.0                   387.0                          87.0  \n",
       "27733        27071.0                   329.0                          69.0  \n",
       "6331         22872.0                   355.0                          89.0  \n",
       "3066         23862.0                   307.0                          86.0  \n",
       "38781        25397.0                   299.0                          76.0  \n",
       "...              ...                     ...                           ...  \n",
       "29589        28406.0                   359.0                          80.0  \n",
       "41018        27049.0                   323.0                          86.0  \n",
       "17297        29415.0                   331.0                          58.0  \n",
       "36786        28805.0                   348.0                          85.0  \n",
       "2400         26939.0                   327.0                         119.0  \n",
       "\n",
       "[10000 rows x 8 columns]"
      ]
     },
     "execution_count": 81,
     "metadata": {},
     "output_type": "execute_result"
    }
   ],
   "source": [
    "blue_features_game15m_data.drop([\"blue_win\", \"blueChampKills\", \"blueDragonKills\", \"blueHeraldKills\", \"blueGold\", \"blueMinionsKilled\", \"blueJungleMinionsKilled\"], axis = 1)"
   ]
  },
  {
   "cell_type": "code",
   "execution_count": 82,
   "metadata": {},
   "outputs": [
    {
     "data": {
      "text/html": [
       "<div>\n",
       "<style scoped>\n",
       "    .dataframe tbody tr th:only-of-type {\n",
       "        vertical-align: middle;\n",
       "    }\n",
       "\n",
       "    .dataframe tbody tr th {\n",
       "        vertical-align: top;\n",
       "    }\n",
       "\n",
       "    .dataframe thead th {\n",
       "        text-align: right;\n",
       "    }\n",
       "</style>\n",
       "<table border=\"1\" class=\"dataframe\">\n",
       "  <thead>\n",
       "    <tr style=\"text-align: right;\">\n",
       "      <th></th>\n",
       "      <th>blueKills</th>\n",
       "      <th>blueDragons</th>\n",
       "      <th>blueHeralds</th>\n",
       "      <th>blueTowersDestroyed</th>\n",
       "      <th>blueTotalGold</th>\n",
       "      <th>blueAvgLevel</th>\n",
       "      <th>blueTotalMinionsKilled</th>\n",
       "      <th>blueTotalJungleMinionsKilled</th>\n",
       "    </tr>\n",
       "  </thead>\n",
       "  <tbody>\n",
       "    <tr>\n",
       "      <th>34693</th>\n",
       "      <td>6.0</td>\n",
       "      <td>0.0</td>\n",
       "      <td>2.0</td>\n",
       "      <td>0.0</td>\n",
       "      <td>24411.0</td>\n",
       "      <td>9.0</td>\n",
       "      <td>387.0</td>\n",
       "      <td>87.0</td>\n",
       "    </tr>\n",
       "    <tr>\n",
       "      <th>27733</th>\n",
       "      <td>10.0</td>\n",
       "      <td>0.0</td>\n",
       "      <td>2.0</td>\n",
       "      <td>0.0</td>\n",
       "      <td>27071.0</td>\n",
       "      <td>9.0</td>\n",
       "      <td>329.0</td>\n",
       "      <td>69.0</td>\n",
       "    </tr>\n",
       "    <tr>\n",
       "      <th>6331</th>\n",
       "      <td>4.0</td>\n",
       "      <td>0.0</td>\n",
       "      <td>0.0</td>\n",
       "      <td>1.0</td>\n",
       "      <td>22872.0</td>\n",
       "      <td>9.0</td>\n",
       "      <td>355.0</td>\n",
       "      <td>89.0</td>\n",
       "    </tr>\n",
       "    <tr>\n",
       "      <th>3066</th>\n",
       "      <td>6.0</td>\n",
       "      <td>0.0</td>\n",
       "      <td>0.0</td>\n",
       "      <td>2.0</td>\n",
       "      <td>23862.0</td>\n",
       "      <td>9.0</td>\n",
       "      <td>307.0</td>\n",
       "      <td>86.0</td>\n",
       "    </tr>\n",
       "    <tr>\n",
       "      <th>38781</th>\n",
       "      <td>11.0</td>\n",
       "      <td>0.0</td>\n",
       "      <td>2.0</td>\n",
       "      <td>2.0</td>\n",
       "      <td>25397.0</td>\n",
       "      <td>9.0</td>\n",
       "      <td>299.0</td>\n",
       "      <td>76.0</td>\n",
       "    </tr>\n",
       "  </tbody>\n",
       "</table>\n",
       "</div>"
      ],
      "text/plain": [
       "       blueKills  blueDragons  blueHeralds  blueTowersDestroyed  \\\n",
       "34693        6.0          0.0          2.0                  0.0   \n",
       "27733       10.0          0.0          2.0                  0.0   \n",
       "6331         4.0          0.0          0.0                  1.0   \n",
       "3066         6.0          0.0          0.0                  2.0   \n",
       "38781       11.0          0.0          2.0                  2.0   \n",
       "\n",
       "       blueTotalGold  blueAvgLevel  blueTotalMinionsKilled  \\\n",
       "34693        24411.0           9.0                   387.0   \n",
       "27733        27071.0           9.0                   329.0   \n",
       "6331         22872.0           9.0                   355.0   \n",
       "3066         23862.0           9.0                   307.0   \n",
       "38781        25397.0           9.0                   299.0   \n",
       "\n",
       "       blueTotalJungleMinionsKilled  \n",
       "34693                          87.0  \n",
       "27733                          69.0  \n",
       "6331                           89.0  \n",
       "3066                           86.0  \n",
       "38781                          76.0  "
      ]
     },
     "execution_count": 82,
     "metadata": {},
     "output_type": "execute_result"
    }
   ],
   "source": [
    "blue_features_game15m_data = blue_features_game15m_data[[\"blueKills\", \"blueDragons\", \"blueHeralds\", \"blueTowersDestroyed\", \"blueTotalGold\", \"blueAvgLevel\", \"blueTotalMinionsKilled\", \"blueTotalJungleMinionsKilled\"]]\n",
    "blue_features_game15m_data.head()"
   ]
  },
  {
   "cell_type": "code",
   "execution_count": 83,
   "metadata": {},
   "outputs": [
    {
     "data": {
      "text/html": [
       "<div>\n",
       "<style scoped>\n",
       "    .dataframe tbody tr th:only-of-type {\n",
       "        vertical-align: middle;\n",
       "    }\n",
       "\n",
       "    .dataframe tbody tr th {\n",
       "        vertical-align: top;\n",
       "    }\n",
       "\n",
       "    .dataframe thead th {\n",
       "        text-align: right;\n",
       "    }\n",
       "</style>\n",
       "<table border=\"1\" class=\"dataframe\">\n",
       "  <thead>\n",
       "    <tr style=\"text-align: right;\">\n",
       "      <th></th>\n",
       "      <th>blueWardsPlaced</th>\n",
       "      <th>blueWardsDestroyed</th>\n",
       "      <th>blueFirstBlood</th>\n",
       "      <th>blueKills</th>\n",
       "      <th>blueDeaths</th>\n",
       "      <th>blueAssists</th>\n",
       "      <th>blueEliteMonsters</th>\n",
       "      <th>blueDragons</th>\n",
       "      <th>blueHeralds</th>\n",
       "      <th>blueTowersDestroyed</th>\n",
       "      <th>blueTotalGold</th>\n",
       "      <th>blueAvgLevel</th>\n",
       "      <th>blueTotalExperience</th>\n",
       "      <th>blueTotalMinionsKilled</th>\n",
       "      <th>blueTotalJungleMinionsKilled</th>\n",
       "      <th>blueGoldDiff</th>\n",
       "      <th>blueExperienceDiff</th>\n",
       "      <th>blueCSPerMin</th>\n",
       "      <th>blueGoldPerMin</th>\n",
       "    </tr>\n",
       "    <tr>\n",
       "      <th>gameId</th>\n",
       "      <th></th>\n",
       "      <th></th>\n",
       "      <th></th>\n",
       "      <th></th>\n",
       "      <th></th>\n",
       "      <th></th>\n",
       "      <th></th>\n",
       "      <th></th>\n",
       "      <th></th>\n",
       "      <th></th>\n",
       "      <th></th>\n",
       "      <th></th>\n",
       "      <th></th>\n",
       "      <th></th>\n",
       "      <th></th>\n",
       "      <th></th>\n",
       "      <th></th>\n",
       "      <th></th>\n",
       "      <th></th>\n",
       "    </tr>\n",
       "  </thead>\n",
       "  <tbody>\n",
       "    <tr>\n",
       "      <th>4519157822</th>\n",
       "      <td>28</td>\n",
       "      <td>2</td>\n",
       "      <td>1</td>\n",
       "      <td>9</td>\n",
       "      <td>6</td>\n",
       "      <td>11</td>\n",
       "      <td>0</td>\n",
       "      <td>0</td>\n",
       "      <td>0</td>\n",
       "      <td>0</td>\n",
       "      <td>17210</td>\n",
       "      <td>6.6</td>\n",
       "      <td>17039</td>\n",
       "      <td>195</td>\n",
       "      <td>36</td>\n",
       "      <td>643</td>\n",
       "      <td>-8</td>\n",
       "      <td>19.5</td>\n",
       "      <td>1721.0</td>\n",
       "    </tr>\n",
       "    <tr>\n",
       "      <th>4523371949</th>\n",
       "      <td>12</td>\n",
       "      <td>1</td>\n",
       "      <td>0</td>\n",
       "      <td>5</td>\n",
       "      <td>5</td>\n",
       "      <td>5</td>\n",
       "      <td>0</td>\n",
       "      <td>0</td>\n",
       "      <td>0</td>\n",
       "      <td>0</td>\n",
       "      <td>14712</td>\n",
       "      <td>6.6</td>\n",
       "      <td>16265</td>\n",
       "      <td>174</td>\n",
       "      <td>43</td>\n",
       "      <td>-2908</td>\n",
       "      <td>-1173</td>\n",
       "      <td>17.4</td>\n",
       "      <td>1471.2</td>\n",
       "    </tr>\n",
       "    <tr>\n",
       "      <th>4521474530</th>\n",
       "      <td>15</td>\n",
       "      <td>0</td>\n",
       "      <td>0</td>\n",
       "      <td>7</td>\n",
       "      <td>11</td>\n",
       "      <td>4</td>\n",
       "      <td>1</td>\n",
       "      <td>1</td>\n",
       "      <td>0</td>\n",
       "      <td>0</td>\n",
       "      <td>16113</td>\n",
       "      <td>6.4</td>\n",
       "      <td>16221</td>\n",
       "      <td>186</td>\n",
       "      <td>46</td>\n",
       "      <td>-1172</td>\n",
       "      <td>-1033</td>\n",
       "      <td>18.6</td>\n",
       "      <td>1611.3</td>\n",
       "    </tr>\n",
       "    <tr>\n",
       "      <th>4524384067</th>\n",
       "      <td>43</td>\n",
       "      <td>1</td>\n",
       "      <td>0</td>\n",
       "      <td>4</td>\n",
       "      <td>5</td>\n",
       "      <td>5</td>\n",
       "      <td>1</td>\n",
       "      <td>0</td>\n",
       "      <td>1</td>\n",
       "      <td>0</td>\n",
       "      <td>15157</td>\n",
       "      <td>7.0</td>\n",
       "      <td>17954</td>\n",
       "      <td>201</td>\n",
       "      <td>55</td>\n",
       "      <td>-1321</td>\n",
       "      <td>-7</td>\n",
       "      <td>20.1</td>\n",
       "      <td>1515.7</td>\n",
       "    </tr>\n",
       "    <tr>\n",
       "      <th>4436033771</th>\n",
       "      <td>75</td>\n",
       "      <td>4</td>\n",
       "      <td>0</td>\n",
       "      <td>6</td>\n",
       "      <td>6</td>\n",
       "      <td>6</td>\n",
       "      <td>0</td>\n",
       "      <td>0</td>\n",
       "      <td>0</td>\n",
       "      <td>0</td>\n",
       "      <td>16400</td>\n",
       "      <td>7.0</td>\n",
       "      <td>18543</td>\n",
       "      <td>210</td>\n",
       "      <td>57</td>\n",
       "      <td>-1004</td>\n",
       "      <td>230</td>\n",
       "      <td>21.0</td>\n",
       "      <td>1640.0</td>\n",
       "    </tr>\n",
       "  </tbody>\n",
       "</table>\n",
       "</div>"
      ],
      "text/plain": [
       "            blueWardsPlaced  blueWardsDestroyed  blueFirstBlood  blueKills  \\\n",
       "gameId                                                                       \n",
       "4519157822               28                   2               1          9   \n",
       "4523371949               12                   1               0          5   \n",
       "4521474530               15                   0               0          7   \n",
       "4524384067               43                   1               0          4   \n",
       "4436033771               75                   4               0          6   \n",
       "\n",
       "            blueDeaths  blueAssists  blueEliteMonsters  blueDragons  \\\n",
       "gameId                                                                \n",
       "4519157822           6           11                  0            0   \n",
       "4523371949           5            5                  0            0   \n",
       "4521474530          11            4                  1            1   \n",
       "4524384067           5            5                  1            0   \n",
       "4436033771           6            6                  0            0   \n",
       "\n",
       "            blueHeralds  blueTowersDestroyed  blueTotalGold  blueAvgLevel  \\\n",
       "gameId                                                                      \n",
       "4519157822            0                    0          17210           6.6   \n",
       "4523371949            0                    0          14712           6.6   \n",
       "4521474530            0                    0          16113           6.4   \n",
       "4524384067            1                    0          15157           7.0   \n",
       "4436033771            0                    0          16400           7.0   \n",
       "\n",
       "            blueTotalExperience  blueTotalMinionsKilled  \\\n",
       "gameId                                                    \n",
       "4519157822                17039                     195   \n",
       "4523371949                16265                     174   \n",
       "4521474530                16221                     186   \n",
       "4524384067                17954                     201   \n",
       "4436033771                18543                     210   \n",
       "\n",
       "            blueTotalJungleMinionsKilled  blueGoldDiff  blueExperienceDiff  \\\n",
       "gameId                                                                       \n",
       "4519157822                            36           643                  -8   \n",
       "4523371949                            43         -2908               -1173   \n",
       "4521474530                            46         -1172               -1033   \n",
       "4524384067                            55         -1321                  -7   \n",
       "4436033771                            57         -1004                 230   \n",
       "\n",
       "            blueCSPerMin  blueGoldPerMin  \n",
       "gameId                                    \n",
       "4519157822          19.5          1721.0  \n",
       "4523371949          17.4          1471.2  \n",
       "4521474530          18.6          1611.3  \n",
       "4524384067          20.1          1515.7  \n",
       "4436033771          21.0          1640.0  "
      ]
     },
     "execution_count": 83,
     "metadata": {},
     "output_type": "execute_result"
    }
   ],
   "source": [
    "blue_features_game10m_data.head()"
   ]
  },
  {
   "cell_type": "code",
   "execution_count": 84,
   "metadata": {},
   "outputs": [],
   "source": [
    "blue_features_game10m_data = blue_features_game10m_data.drop([\"blueWardsPlaced\", \"blueWardsDestroyed\", \"blueFirstBlood\", \"blueDeaths\", \"blueAssists\", \"blueEliteMonsters\", \"blueTotalExperience\", \"blueGoldDiff\", \"blueExperienceDiff\", \"blueCSPerMin\", \"blueGoldPerMin\"], axis = 1)"
   ]
  },
  {
   "cell_type": "code",
   "execution_count": 85,
   "metadata": {},
   "outputs": [
    {
     "data": {
      "text/html": [
       "<div>\n",
       "<style scoped>\n",
       "    .dataframe tbody tr th:only-of-type {\n",
       "        vertical-align: middle;\n",
       "    }\n",
       "\n",
       "    .dataframe tbody tr th {\n",
       "        vertical-align: top;\n",
       "    }\n",
       "\n",
       "    .dataframe thead th {\n",
       "        text-align: right;\n",
       "    }\n",
       "</style>\n",
       "<table border=\"1\" class=\"dataframe\">\n",
       "  <thead>\n",
       "    <tr style=\"text-align: right;\">\n",
       "      <th></th>\n",
       "      <th>blueKills</th>\n",
       "      <th>blueDragons</th>\n",
       "      <th>blueHeralds</th>\n",
       "      <th>blueTowersDestroyed</th>\n",
       "      <th>blueTotalGold</th>\n",
       "      <th>blueAvgLevel</th>\n",
       "      <th>blueTotalMinionsKilled</th>\n",
       "      <th>blueTotalJungleMinionsKilled</th>\n",
       "    </tr>\n",
       "    <tr>\n",
       "      <th>gameId</th>\n",
       "      <th></th>\n",
       "      <th></th>\n",
       "      <th></th>\n",
       "      <th></th>\n",
       "      <th></th>\n",
       "      <th></th>\n",
       "      <th></th>\n",
       "      <th></th>\n",
       "    </tr>\n",
       "  </thead>\n",
       "  <tbody>\n",
       "    <tr>\n",
       "      <th>4519157822</th>\n",
       "      <td>9</td>\n",
       "      <td>0</td>\n",
       "      <td>0</td>\n",
       "      <td>0</td>\n",
       "      <td>17210</td>\n",
       "      <td>6.6</td>\n",
       "      <td>195</td>\n",
       "      <td>36</td>\n",
       "    </tr>\n",
       "    <tr>\n",
       "      <th>4523371949</th>\n",
       "      <td>5</td>\n",
       "      <td>0</td>\n",
       "      <td>0</td>\n",
       "      <td>0</td>\n",
       "      <td>14712</td>\n",
       "      <td>6.6</td>\n",
       "      <td>174</td>\n",
       "      <td>43</td>\n",
       "    </tr>\n",
       "    <tr>\n",
       "      <th>4521474530</th>\n",
       "      <td>7</td>\n",
       "      <td>1</td>\n",
       "      <td>0</td>\n",
       "      <td>0</td>\n",
       "      <td>16113</td>\n",
       "      <td>6.4</td>\n",
       "      <td>186</td>\n",
       "      <td>46</td>\n",
       "    </tr>\n",
       "    <tr>\n",
       "      <th>4524384067</th>\n",
       "      <td>4</td>\n",
       "      <td>0</td>\n",
       "      <td>1</td>\n",
       "      <td>0</td>\n",
       "      <td>15157</td>\n",
       "      <td>7.0</td>\n",
       "      <td>201</td>\n",
       "      <td>55</td>\n",
       "    </tr>\n",
       "    <tr>\n",
       "      <th>4436033771</th>\n",
       "      <td>6</td>\n",
       "      <td>0</td>\n",
       "      <td>0</td>\n",
       "      <td>0</td>\n",
       "      <td>16400</td>\n",
       "      <td>7.0</td>\n",
       "      <td>210</td>\n",
       "      <td>57</td>\n",
       "    </tr>\n",
       "  </tbody>\n",
       "</table>\n",
       "</div>"
      ],
      "text/plain": [
       "            blueKills  blueDragons  blueHeralds  blueTowersDestroyed  \\\n",
       "gameId                                                                 \n",
       "4519157822          9            0            0                    0   \n",
       "4523371949          5            0            0                    0   \n",
       "4521474530          7            1            0                    0   \n",
       "4524384067          4            0            1                    0   \n",
       "4436033771          6            0            0                    0   \n",
       "\n",
       "            blueTotalGold  blueAvgLevel  blueTotalMinionsKilled  \\\n",
       "gameId                                                            \n",
       "4519157822          17210           6.6                     195   \n",
       "4523371949          14712           6.6                     174   \n",
       "4521474530          16113           6.4                     186   \n",
       "4524384067          15157           7.0                     201   \n",
       "4436033771          16400           7.0                     210   \n",
       "\n",
       "            blueTotalJungleMinionsKilled  \n",
       "gameId                                    \n",
       "4519157822                            36  \n",
       "4523371949                            43  \n",
       "4521474530                            46  \n",
       "4524384067                            55  \n",
       "4436033771                            57  "
      ]
     },
     "execution_count": 85,
     "metadata": {},
     "output_type": "execute_result"
    }
   ],
   "source": [
    "blue_features_game10m_data.head()"
   ]
  },
  {
   "cell_type": "markdown",
   "metadata": {},
   "source": [
    "Now we have two similar dataframes, one for 10 minutes into the game and one for 15 minutes into the game. Let's experiment what will happen if we train our model with the data from the \"ten minutes dataset\" and make him predict the results from the \"fiftheen minutes dataset\"."
   ]
  },
  {
   "cell_type": "code",
   "execution_count": 86,
   "metadata": {},
   "outputs": [],
   "source": [
    "x_train = blue_features_game10m_data\n",
    "y_train = game_10m_data[\"blueWins\"]\n",
    "x_test = blue_features_game15m_data\n",
    "y_test = blue_target_game15m_data"
   ]
  },
  {
   "cell_type": "code",
   "execution_count": 87,
   "metadata": {},
   "outputs": [
    {
     "data": {
      "text/plain": [
       "LogisticRegression(C=1.0, class_weight=None, dual=False, fit_intercept=True,\n",
       "                   intercept_scaling=1, l1_ratio=None, max_iter=100,\n",
       "                   multi_class='auto', n_jobs=None, penalty='l2',\n",
       "                   random_state=None, solver='lbfgs', tol=0.0001, verbose=0,\n",
       "                   warm_start=False)"
      ]
     },
     "execution_count": 87,
     "metadata": {},
     "output_type": "execute_result"
    }
   ],
   "source": [
    "lr_model.fit(x_train, y_train)"
   ]
  },
  {
   "cell_type": "code",
   "execution_count": 88,
   "metadata": {},
   "outputs": [
    {
     "name": "stdout",
     "output_type": "stream",
     "text": [
      "0.5502\n"
     ]
    }
   ],
   "source": [
    "lr_result = lr_model.predict(x_test)\n",
    "print(accuracy_score(lr_result, y_test))"
   ]
  },
  {
   "cell_type": "markdown",
   "metadata": {},
   "source": [
    "Well, we can say that this approach is not effective at all and that we actually expected this. The reason for this is because the two dataset are for different period of time from the game.\n",
    "\n",
    "Anyway, let's try the logistic regression model on the \"fifteen minutes dataset\" just for the sake of the example."
   ]
  },
  {
   "cell_type": "code",
   "execution_count": 89,
   "metadata": {},
   "outputs": [],
   "source": [
    "x_train, x_test, y_train, y_test = train_test_split(blue_features_game15m_data, blue_target_game15m_data, test_size = 0.2, random_state = 10)"
   ]
  },
  {
   "cell_type": "code",
   "execution_count": 90,
   "metadata": {},
   "outputs": [
    {
     "data": {
      "text/plain": [
       "LogisticRegression(C=1.0, class_weight=None, dual=False, fit_intercept=True,\n",
       "                   intercept_scaling=1, l1_ratio=None, max_iter=100,\n",
       "                   multi_class='auto', n_jobs=None, penalty='l2',\n",
       "                   random_state=None, solver='lbfgs', tol=0.0001, verbose=0,\n",
       "                   warm_start=False)"
      ]
     },
     "execution_count": 90,
     "metadata": {},
     "output_type": "execute_result"
    }
   ],
   "source": [
    "lr_model.fit(x_train, y_train)"
   ]
  },
  {
   "cell_type": "code",
   "execution_count": 91,
   "metadata": {},
   "outputs": [
    {
     "name": "stdout",
     "output_type": "stream",
     "text": [
      "0.7245\n"
     ]
    }
   ],
   "source": [
    "lr_result = lr_model.predict(x_test)\n",
    "print(accuracy_score(lr_result, y_test))"
   ]
  },
  {
   "cell_type": "markdown",
   "metadata": {},
   "source": [
    "This result tell us that no matter of the less number of features presented in this dataset it gives us somehow similar results.\n",
    "\n",
    "Overall we learned that to get reasonable and realistic results the most important thing is to \"compare apples with apples\"."
   ]
  },
  {
   "cell_type": "markdown",
   "metadata": {},
   "source": [
    "**References:**\n",
    "* [LoL - Diamond I to Master Dataset](https://www.kaggle.com/bobbyscience/league-of-legends-diamond-ranked-games-10-min)\n",
    "* [LoL - Diamond IV to Diamond I Dataset](https://www.kaggle.com/benfattori/league-of-legends-diamond-games-first-15-minutes)\n",
    "* [Legendary game prediction analysis - Notebook](https://www.kaggle.com/adityaaggarwal09/legendary-game-prediction-analysis)\n",
    "* [League of graphs](https://www.leagueofgraphs.com/)\n",
    "* [Life of Data. Data Science is OSEMN](https://medium.com/breathe-publication/life-of-data-data-science-is-osemn-f453e1febc10)\n",
    "* [Logistic Regression using Python (scikit-learn)](https://towardsdatascience.com/logistic-regression-using-python-sklearn-numpy-mnist-handwriting-recognition-matplotlib-a6b31e2b166a)\n",
    "* [Logistic Regression using Python (scikit-learn) - Youtube video](https://www.youtube.com/watch?v=71iXeuKFcQM&feature=emb_title)\n",
    "* ... and many more"
   ]
  }
 ],
 "metadata": {
  "kernelspec": {
   "display_name": "Python 3",
   "language": "python",
   "name": "python3"
  },
  "language_info": {
   "codemirror_mode": {
    "name": "ipython",
    "version": 3
   },
   "file_extension": ".py",
   "mimetype": "text/x-python",
   "name": "python",
   "nbconvert_exporter": "python",
   "pygments_lexer": "ipython3",
   "version": "3.7.6"
  }
 },
 "nbformat": 4,
 "nbformat_minor": 4
}
